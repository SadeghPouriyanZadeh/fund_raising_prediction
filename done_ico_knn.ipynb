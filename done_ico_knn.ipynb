{
 "cells": [
  {
   "cell_type": "code",
   "execution_count": 1,
   "metadata": {},
   "outputs": [],
   "source": [
    "# for autoreloading edited the modules and packages instead of restarting the kernel\n",
    "%reload_ext autoreload\n",
    "%autoreload 2"
   ]
  },
  {
   "cell_type": "markdown",
   "metadata": {},
   "source": [
    "## K-Nearest Neighbors (KNN) model"
   ]
  },
  {
   "cell_type": "markdown",
   "metadata": {},
   "source": [
    "### 1. data preparation"
   ]
  },
  {
   "cell_type": "markdown",
   "metadata": {},
   "source": [
    "#### 1.1. prepare dataset"
   ]
  },
  {
   "cell_type": "code",
   "execution_count": 2,
   "metadata": {},
   "outputs": [],
   "source": [
    "from pathlib import Path\n",
    "import pandas as pd\n"
   ]
  },
  {
   "cell_type": "code",
   "execution_count": 3,
   "metadata": {},
   "outputs": [
    {
     "data": {
      "text/html": [
       "<div>\n",
       "<style scoped>\n",
       "    .dataframe tbody tr th:only-of-type {\n",
       "        vertical-align: middle;\n",
       "    }\n",
       "\n",
       "    .dataframe tbody tr th {\n",
       "        vertical-align: top;\n",
       "    }\n",
       "\n",
       "    .dataframe thead th {\n",
       "        text-align: right;\n",
       "    }\n",
       "</style>\n",
       "<table border=\"1\" class=\"dataframe\">\n",
       "  <thead>\n",
       "    <tr style=\"text-align: right;\">\n",
       "      <th></th>\n",
       "      <th>Postal address known</th>\n",
       "      <th>total_number_of_tokens</th>\n",
       "      <th>token_is_new_blockchain</th>\n",
       "      <th>Total amount raised (USDm)</th>\n",
       "      <th>Financial advisor disclosed</th>\n",
       "      <th>KYC/AML procedure</th>\n",
       "      <th>Is currency or general purpose blockchain</th>\n",
       "      <th>is_ethereum</th>\n",
       "      <th>Is cryptographic token</th>\n",
       "      <th>Product can be tried out</th>\n",
       "      <th>...</th>\n",
       "      <th>Simple agreement for future tokens (SAFT)</th>\n",
       "      <th>Product or prototype developed</th>\n",
       "      <th>Crowdsale is auction</th>\n",
       "      <th>air_drop_after_ICO</th>\n",
       "      <th>BTC_ret_ico_period</th>\n",
       "      <th>Registered in offshore financial center</th>\n",
       "      <th>Unsold tokens kept by issuer</th>\n",
       "      <th>Investors from other (non-US) jurisdictions excluded</th>\n",
       "      <th>Token share producers/miners (ex ante)</th>\n",
       "      <th>Token share team (ex ante)</th>\n",
       "    </tr>\n",
       "  </thead>\n",
       "  <tbody>\n",
       "    <tr>\n",
       "      <th>count</th>\n",
       "      <td>218.000000</td>\n",
       "      <td>2.180000e+02</td>\n",
       "      <td>218.000000</td>\n",
       "      <td>218.000000</td>\n",
       "      <td>218.000000</td>\n",
       "      <td>218.000000</td>\n",
       "      <td>218.000000</td>\n",
       "      <td>218.000000</td>\n",
       "      <td>218.0</td>\n",
       "      <td>218.000000</td>\n",
       "      <td>...</td>\n",
       "      <td>218.000000</td>\n",
       "      <td>218.000000</td>\n",
       "      <td>218.000000</td>\n",
       "      <td>218.00000</td>\n",
       "      <td>218.000000</td>\n",
       "      <td>218.000000</td>\n",
       "      <td>218.00000</td>\n",
       "      <td>218.000000</td>\n",
       "      <td>218.000000</td>\n",
       "      <td>218.000000</td>\n",
       "    </tr>\n",
       "    <tr>\n",
       "      <th>mean</th>\n",
       "      <td>0.706422</td>\n",
       "      <td>4.700876e+10</td>\n",
       "      <td>0.041284</td>\n",
       "      <td>21.009830</td>\n",
       "      <td>0.201835</td>\n",
       "      <td>0.513761</td>\n",
       "      <td>0.133028</td>\n",
       "      <td>0.963303</td>\n",
       "      <td>1.0</td>\n",
       "      <td>0.431193</td>\n",
       "      <td>...</td>\n",
       "      <td>0.013761</td>\n",
       "      <td>0.545872</td>\n",
       "      <td>0.068807</td>\n",
       "      <td>0.12844</td>\n",
       "      <td>0.211040</td>\n",
       "      <td>0.201835</td>\n",
       "      <td>0.43578</td>\n",
       "      <td>0.426606</td>\n",
       "      <td>0.015032</td>\n",
       "      <td>0.401782</td>\n",
       "    </tr>\n",
       "    <tr>\n",
       "      <th>std</th>\n",
       "      <td>0.456449</td>\n",
       "      <td>6.772432e+11</td>\n",
       "      <td>0.199405</td>\n",
       "      <td>23.526967</td>\n",
       "      <td>0.402293</td>\n",
       "      <td>0.500961</td>\n",
       "      <td>0.340386</td>\n",
       "      <td>0.188450</td>\n",
       "      <td>0.0</td>\n",
       "      <td>0.496383</td>\n",
       "      <td>...</td>\n",
       "      <td>0.116767</td>\n",
       "      <td>0.499037</td>\n",
       "      <td>0.253709</td>\n",
       "      <td>0.33535</td>\n",
       "      <td>0.331695</td>\n",
       "      <td>0.402293</td>\n",
       "      <td>0.49700</td>\n",
       "      <td>0.495722</td>\n",
       "      <td>0.080731</td>\n",
       "      <td>0.209830</td>\n",
       "    </tr>\n",
       "    <tr>\n",
       "      <th>min</th>\n",
       "      <td>0.000000</td>\n",
       "      <td>1.250000e+03</td>\n",
       "      <td>0.000000</td>\n",
       "      <td>0.000000</td>\n",
       "      <td>0.000000</td>\n",
       "      <td>0.000000</td>\n",
       "      <td>0.000000</td>\n",
       "      <td>0.000000</td>\n",
       "      <td>1.0</td>\n",
       "      <td>0.000000</td>\n",
       "      <td>...</td>\n",
       "      <td>0.000000</td>\n",
       "      <td>0.000000</td>\n",
       "      <td>0.000000</td>\n",
       "      <td>0.00000</td>\n",
       "      <td>-0.560330</td>\n",
       "      <td>0.000000</td>\n",
       "      <td>0.00000</td>\n",
       "      <td>0.000000</td>\n",
       "      <td>0.000000</td>\n",
       "      <td>0.000000</td>\n",
       "    </tr>\n",
       "    <tr>\n",
       "      <th>25%</th>\n",
       "      <td>0.000000</td>\n",
       "      <td>5.455124e+07</td>\n",
       "      <td>0.000000</td>\n",
       "      <td>5.868752</td>\n",
       "      <td>0.000000</td>\n",
       "      <td>0.000000</td>\n",
       "      <td>0.000000</td>\n",
       "      <td>1.000000</td>\n",
       "      <td>1.0</td>\n",
       "      <td>0.000000</td>\n",
       "      <td>...</td>\n",
       "      <td>0.000000</td>\n",
       "      <td>0.000000</td>\n",
       "      <td>0.000000</td>\n",
       "      <td>0.00000</td>\n",
       "      <td>0.000000</td>\n",
       "      <td>0.000000</td>\n",
       "      <td>0.00000</td>\n",
       "      <td>0.000000</td>\n",
       "      <td>0.000000</td>\n",
       "      <td>0.235577</td>\n",
       "    </tr>\n",
       "    <tr>\n",
       "      <th>50%</th>\n",
       "      <td>1.000000</td>\n",
       "      <td>1.301355e+08</td>\n",
       "      <td>0.000000</td>\n",
       "      <td>14.380449</td>\n",
       "      <td>0.000000</td>\n",
       "      <td>1.000000</td>\n",
       "      <td>0.000000</td>\n",
       "      <td>1.000000</td>\n",
       "      <td>1.0</td>\n",
       "      <td>0.000000</td>\n",
       "      <td>...</td>\n",
       "      <td>0.000000</td>\n",
       "      <td>1.000000</td>\n",
       "      <td>0.000000</td>\n",
       "      <td>0.00000</td>\n",
       "      <td>0.113761</td>\n",
       "      <td>0.000000</td>\n",
       "      <td>0.00000</td>\n",
       "      <td>0.000000</td>\n",
       "      <td>0.000000</td>\n",
       "      <td>0.400000</td>\n",
       "    </tr>\n",
       "    <tr>\n",
       "      <th>75%</th>\n",
       "      <td>1.000000</td>\n",
       "      <td>9.720000e+08</td>\n",
       "      <td>0.000000</td>\n",
       "      <td>28.315595</td>\n",
       "      <td>0.000000</td>\n",
       "      <td>1.000000</td>\n",
       "      <td>0.000000</td>\n",
       "      <td>1.000000</td>\n",
       "      <td>1.0</td>\n",
       "      <td>1.000000</td>\n",
       "      <td>...</td>\n",
       "      <td>0.000000</td>\n",
       "      <td>1.000000</td>\n",
       "      <td>0.000000</td>\n",
       "      <td>0.00000</td>\n",
       "      <td>0.430093</td>\n",
       "      <td>0.000000</td>\n",
       "      <td>1.00000</td>\n",
       "      <td>1.000000</td>\n",
       "      <td>0.000000</td>\n",
       "      <td>0.550000</td>\n",
       "    </tr>\n",
       "    <tr>\n",
       "      <th>max</th>\n",
       "      <td>1.000000</td>\n",
       "      <td>1.000000e+13</td>\n",
       "      <td>1.000000</td>\n",
       "      <td>159.279114</td>\n",
       "      <td>1.000000</td>\n",
       "      <td>1.000000</td>\n",
       "      <td>1.000000</td>\n",
       "      <td>1.000000</td>\n",
       "      <td>1.0</td>\n",
       "      <td>1.000000</td>\n",
       "      <td>...</td>\n",
       "      <td>1.000000</td>\n",
       "      <td>1.000000</td>\n",
       "      <td>1.000000</td>\n",
       "      <td>1.00000</td>\n",
       "      <td>1.482669</td>\n",
       "      <td>1.000000</td>\n",
       "      <td>1.00000</td>\n",
       "      <td>1.000000</td>\n",
       "      <td>0.880000</td>\n",
       "      <td>0.950000</td>\n",
       "    </tr>\n",
       "  </tbody>\n",
       "</table>\n",
       "<p>8 rows × 72 columns</p>\n",
       "</div>"
      ],
      "text/plain": [
       "       Postal address known  total_number_of_tokens  token_is_new_blockchain  \\\n",
       "count            218.000000            2.180000e+02               218.000000   \n",
       "mean               0.706422            4.700876e+10                 0.041284   \n",
       "std                0.456449            6.772432e+11                 0.199405   \n",
       "min                0.000000            1.250000e+03                 0.000000   \n",
       "25%                0.000000            5.455124e+07                 0.000000   \n",
       "50%                1.000000            1.301355e+08                 0.000000   \n",
       "75%                1.000000            9.720000e+08                 0.000000   \n",
       "max                1.000000            1.000000e+13                 1.000000   \n",
       "\n",
       "       Total amount raised (USDm)  Financial advisor disclosed  \\\n",
       "count                  218.000000                   218.000000   \n",
       "mean                    21.009830                     0.201835   \n",
       "std                     23.526967                     0.402293   \n",
       "min                      0.000000                     0.000000   \n",
       "25%                      5.868752                     0.000000   \n",
       "50%                     14.380449                     0.000000   \n",
       "75%                     28.315595                     0.000000   \n",
       "max                    159.279114                     1.000000   \n",
       "\n",
       "       KYC/AML procedure  Is currency or general purpose blockchain  \\\n",
       "count         218.000000                                 218.000000   \n",
       "mean            0.513761                                   0.133028   \n",
       "std             0.500961                                   0.340386   \n",
       "min             0.000000                                   0.000000   \n",
       "25%             0.000000                                   0.000000   \n",
       "50%             1.000000                                   0.000000   \n",
       "75%             1.000000                                   0.000000   \n",
       "max             1.000000                                   1.000000   \n",
       "\n",
       "       is_ethereum  Is cryptographic token  Product can be tried out  ...  \\\n",
       "count   218.000000                   218.0                218.000000  ...   \n",
       "mean      0.963303                     1.0                  0.431193  ...   \n",
       "std       0.188450                     0.0                  0.496383  ...   \n",
       "min       0.000000                     1.0                  0.000000  ...   \n",
       "25%       1.000000                     1.0                  0.000000  ...   \n",
       "50%       1.000000                     1.0                  0.000000  ...   \n",
       "75%       1.000000                     1.0                  1.000000  ...   \n",
       "max       1.000000                     1.0                  1.000000  ...   \n",
       "\n",
       "       Simple agreement for future tokens (SAFT)  \\\n",
       "count                                 218.000000   \n",
       "mean                                    0.013761   \n",
       "std                                     0.116767   \n",
       "min                                     0.000000   \n",
       "25%                                     0.000000   \n",
       "50%                                     0.000000   \n",
       "75%                                     0.000000   \n",
       "max                                     1.000000   \n",
       "\n",
       "       Product or prototype developed  Crowdsale is auction  \\\n",
       "count                      218.000000            218.000000   \n",
       "mean                         0.545872              0.068807   \n",
       "std                          0.499037              0.253709   \n",
       "min                          0.000000              0.000000   \n",
       "25%                          0.000000              0.000000   \n",
       "50%                          1.000000              0.000000   \n",
       "75%                          1.000000              0.000000   \n",
       "max                          1.000000              1.000000   \n",
       "\n",
       "       air_drop_after_ICO   BTC_ret_ico_period  \\\n",
       "count            218.00000          218.000000   \n",
       "mean               0.12844            0.211040   \n",
       "std                0.33535            0.331695   \n",
       "min                0.00000           -0.560330   \n",
       "25%                0.00000            0.000000   \n",
       "50%                0.00000            0.113761   \n",
       "75%                0.00000            0.430093   \n",
       "max                1.00000            1.482669   \n",
       "\n",
       "       Registered in offshore financial center  Unsold tokens kept by issuer  \\\n",
       "count                               218.000000                     218.00000   \n",
       "mean                                  0.201835                       0.43578   \n",
       "std                                   0.402293                       0.49700   \n",
       "min                                   0.000000                       0.00000   \n",
       "25%                                   0.000000                       0.00000   \n",
       "50%                                   0.000000                       0.00000   \n",
       "75%                                   0.000000                       1.00000   \n",
       "max                                   1.000000                       1.00000   \n",
       "\n",
       "       Investors from other (non-US) jurisdictions excluded  \\\n",
       "count                                         218.000000      \n",
       "mean                                            0.426606      \n",
       "std                                             0.495722      \n",
       "min                                             0.000000      \n",
       "25%                                             0.000000      \n",
       "50%                                             0.000000      \n",
       "75%                                             1.000000      \n",
       "max                                             1.000000      \n",
       "\n",
       "       Token share producers/miners (ex ante)  Token share team (ex ante)  \n",
       "count                              218.000000                  218.000000  \n",
       "mean                                 0.015032                    0.401782  \n",
       "std                                  0.080731                    0.209830  \n",
       "min                                  0.000000                    0.000000  \n",
       "25%                                  0.000000                    0.235577  \n",
       "50%                                  0.000000                    0.400000  \n",
       "75%                                  0.000000                    0.550000  \n",
       "max                                  0.880000                    0.950000  \n",
       "\n",
       "[8 rows x 72 columns]"
      ]
     },
     "execution_count": 3,
     "metadata": {},
     "output_type": "execute_result"
    }
   ],
   "source": [
    "data_dir = Path(\"data_preprocess\")\n",
    "data_path = data_dir / \"cleaned_ico_dataset.csv\"\n",
    "\n",
    "df = pd.read_csv(data_path)\n",
    "df.describe()\n"
   ]
  },
  {
   "cell_type": "markdown",
   "metadata": {},
   "source": [
    "***"
   ]
  },
  {
   "cell_type": "markdown",
   "metadata": {},
   "source": [
    "#### step 2. handle missing values"
   ]
  },
  {
   "cell_type": "code",
   "execution_count": 4,
   "metadata": {},
   "outputs": [
    {
     "data": {
      "text/plain": [
       "0"
      ]
     },
     "execution_count": 4,
     "metadata": {},
     "output_type": "execute_result"
    }
   ],
   "source": [
    "nan_values = sum(df.isna().sum())\n",
    "nan_values\n"
   ]
  },
  {
   "cell_type": "markdown",
   "metadata": {},
   "source": [
    "There are no missing data.  \n",
    "It was handled before; So there is no need to handle missing data."
   ]
  },
  {
   "cell_type": "markdown",
   "metadata": {},
   "source": [
    "***"
   ]
  },
  {
   "cell_type": "markdown",
   "metadata": {},
   "source": [
    "### Part 2. Feature Selection"
   ]
  },
  {
   "cell_type": "markdown",
   "metadata": {},
   "source": [
    "#### step 3. select features"
   ]
  },
  {
   "cell_type": "code",
   "execution_count": 5,
   "metadata": {},
   "outputs": [],
   "source": [
    "from data_preprocess.data_utils import get_processed_data\n"
   ]
  },
  {
   "cell_type": "code",
   "execution_count": 6,
   "metadata": {},
   "outputs": [
    {
     "data": {
      "text/plain": [
       "((218, 89), (218, 1))"
      ]
     },
     "execution_count": 6,
     "metadata": {},
     "output_type": "execute_result"
    }
   ],
   "source": [
    "x, y = get_processed_data(\n",
    "    data_path, one_hot_encode=False, target_feature=\"Total amount raised (USDm)\"\n",
    ")\n",
    "x.shape, y.shape\n"
   ]
  },
  {
   "cell_type": "markdown",
   "metadata": {},
   "source": [
    "---"
   ]
  },
  {
   "cell_type": "markdown",
   "metadata": {},
   "source": [
    "#### step 4. visualize heatmap"
   ]
  },
  {
   "cell_type": "code",
   "execution_count": 7,
   "metadata": {},
   "outputs": [],
   "source": [
    "import seaborn as sns\n"
   ]
  },
  {
   "cell_type": "code",
   "execution_count": 8,
   "metadata": {},
   "outputs": [
    {
     "data": {
      "image/png": "[encoded data removed]",
      "text/plain": [
       "<Figure size 432x288 with 2 Axes>"
      ]
     },
     "metadata": {},
     "output_type": "display_data"
    }
   ],
   "source": [
    "sns.set_theme()\n",
    "ax = sns.heatmap(x)\n"
   ]
  },
  {
   "cell_type": "markdown",
   "metadata": {},
   "source": [
    "comparing values in the above figure is hard because of large differences between feature values.  \n",
    "the solution is to normalize feature values."
   ]
  },
  {
   "cell_type": "markdown",
   "metadata": {},
   "source": [
    "---"
   ]
  },
  {
   "cell_type": "markdown",
   "metadata": {},
   "source": [
    "#### step 5. standardize input features"
   ]
  },
  {
   "cell_type": "code",
   "execution_count": 9,
   "metadata": {},
   "outputs": [],
   "source": [
    "from sklearn.preprocessing import StandardScaler\n"
   ]
  },
  {
   "cell_type": "code",
   "execution_count": 10,
   "metadata": {},
   "outputs": [
    {
     "data": {
      "text/plain": [
       "Text(30.5, 0.5, 'examples')"
      ]
     },
     "execution_count": 10,
     "metadata": {},
     "output_type": "execute_result"
    },
    {
     "data": {
      "image/png": "[encoded data removed]",
      "text/plain": [
       "<Figure size 432x288 with 2 Axes>"
      ]
     },
     "metadata": {},
     "output_type": "display_data"
    }
   ],
   "source": [
    "# using z-score method\n",
    "scaler = StandardScaler()\n",
    "scaler.fit(x)\n",
    "x_standard = scaler.transform(x)\n",
    "sns.set_theme()\n",
    "ax = sns.heatmap(x_standard)\n",
    "ax.set_title(\"normalized input features\")\n",
    "ax.set_xlabel(\"features\")\n",
    "ax.set_ylabel(\"examples\")\n"
   ]
  },
  {
   "cell_type": "markdown",
   "metadata": {},
   "source": [
    "---"
   ]
  },
  {
   "cell_type": "markdown",
   "metadata": {},
   "source": [
    "#### step 6. split dataset into train and test datasets\n"
   ]
  },
  {
   "cell_type": "code",
   "execution_count": 11,
   "metadata": {},
   "outputs": [],
   "source": [
    "from sklearn.model_selection import train_test_split\n"
   ]
  },
  {
   "cell_type": "code",
   "execution_count": 12,
   "metadata": {},
   "outputs": [
    {
     "data": {
      "text/plain": [
       "((174, 89), (44, 89), (174, 1), (44, 1))"
      ]
     },
     "execution_count": 12,
     "metadata": {},
     "output_type": "execute_result"
    }
   ],
   "source": [
    "test_size = 0.2\n",
    "x_train, x_test, y_train, y_test = train_test_split(\n",
    "    x,\n",
    "    y,\n",
    "    test_size=test_size,\n",
    "    random_state=28,\n",
    ")\n",
    "x_train.shape, x_test.shape, y_train.shape, y_test.shape\n"
   ]
  },
  {
   "cell_type": "markdown",
   "metadata": {},
   "source": [
    "***"
   ]
  },
  {
   "cell_type": "markdown",
   "metadata": {},
   "source": [
    "### Part 3. Model Implementation"
   ]
  },
  {
   "cell_type": "markdown",
   "metadata": {},
   "source": [
    "TODO\n",
    "tune hyperparameters"
   ]
  },
  {
   "cell_type": "markdown",
   "metadata": {},
   "source": [
    "#### step 7. implement KNN with sklearn"
   ]
  },
  {
   "cell_type": "code",
   "execution_count": 13,
   "metadata": {},
   "outputs": [],
   "source": [
    "from sklearn.neighbors import KNeighborsRegressor\n",
    "from knn.train_utils import find_best_hyperparameter, train_knn_with_kfold\n"
   ]
  },
  {
   "cell_type": "code",
   "execution_count": 14,
   "metadata": {},
   "outputs": [],
   "source": [
    "# parameters = {\n",
    "#     \"algorithm\": [\"auto\", \"ball_tree\", \"kd_tree\", \"brute\"],\n",
    "#     \"leaf_size\": [20, 30, 40],\n",
    "#     \"metric\": [\"minkowski\"],\n",
    "#     \"n_jobs\": [-1],\n",
    "#     \"n_neighbors\": [1, 3, 5, 7, 9, 15, 30, 45, 60, 75, 90, 120, 150, 170],\n",
    "#     \"p\": [1, 2, 3],\n",
    "#     \"weights\": [\"uniform\", \"distance\"],\n",
    "# }\n",
    "\n"
   ]
  },
  {
   "cell_type": "code",
   "execution_count": 15,
   "metadata": {},
   "outputs": [],
   "source": [
    "# regressor = KNeighborsRegressor()\n",
    "# \n",
    "# best_hyperparameter = find_best_hyperparameter(\n",
    "#     data_path,\n",
    "#     regressor,\n",
    "#     parameters=parameters,\n",
    "#     target_feature='usd_pledged'\n",
    "# )\n",
    "# best_hyperparameter\n"
   ]
  },
  {
   "cell_type": "code",
   "execution_count": 16,
   "metadata": {},
   "outputs": [],
   "source": [
    "# to set hyperparameters manually\n",
    "best_hyperparameter = {\n",
    "    \"algorithm\": \"auto\",\n",
    "    \"leaf_size\": 30,\n",
    "    \"metric\": \"minkowski\",\n",
    "    \"n_jobs\": -1,\n",
    "    \"n_neighbors\": 15,\n",
    "    \"p\": 2,\n",
    "    \"weights\": 'uniform',\n",
    "}"
   ]
  },
  {
   "cell_type": "code",
   "execution_count": 17,
   "metadata": {},
   "outputs": [
    {
     "data": {
      "text/plain": [
       "[0.09337738559830477, -0.22563287759686212]"
      ]
     },
     "execution_count": 17,
     "metadata": {},
     "output_type": "execute_result"
    }
   ],
   "source": [
    "regressor = KNeighborsRegressor(**best_hyperparameter)\n",
    "regressor.fit(x_train, y_train)\n",
    "y_pred = regressor.predict(x_test)\n",
    "\n",
    "training_score = regressor.score(x_train, y_train)\n",
    "test_score = regressor.score(x_test, y_test)\n",
    "\n",
    "scores = [training_score, test_score]\n",
    "scores\n"
   ]
  },
  {
   "cell_type": "markdown",
   "metadata": {},
   "source": [
    "#### step 8. fine-tune k"
   ]
  },
  {
   "cell_type": "code",
   "execution_count": 18,
   "metadata": {},
   "outputs": [],
   "source": [
    "from sklearn.metrics import mean_squared_error\n",
    "import matplotlib.pyplot as plt\n"
   ]
  },
  {
   "cell_type": "code",
   "execution_count": 19,
   "metadata": {},
   "outputs": [
    {
     "name": "stdout",
     "output_type": "stream",
     "text": [
      "Minimum error:  425.4573330980675 at k = 80\n"
     ]
    },
    {
     "data": {
      "image/png": "[encoded data removed]",
      "text/plain": [
       "<Figure size 432x288 with 1 Axes>"
      ]
     },
     "metadata": {},
     "output_type": "display_data"
    }
   ],
   "source": [
    "error_rate = []\n",
    "k_range = 175\n",
    "range_start = 5\n",
    "for i in range(range_start, k_range):\n",
    "    regressor = KNeighborsRegressor(n_neighbors=i)\n",
    "    regressor.fit(x_train, y_train)\n",
    "    y_pred = regressor.predict(x_test)\n",
    "    error_rate.append(mean_squared_error(y_test, y_pred))\n",
    "\n",
    "plt.figure()\n",
    "plt.plot(range(range_start, k_range), error_rate, color=\"red\")\n",
    "plt.title(\"Error Rate vs. K Value\")\n",
    "plt.xlabel(\"K\")\n",
    "plt.ylabel(\"Error Rate\")\n",
    "print(\"Minimum error: \", min(error_rate), \"at k =\", error_rate.index(min(error_rate)))\n"
   ]
  },
  {
   "cell_type": "markdown",
   "metadata": {},
   "source": [
    "***"
   ]
  },
  {
   "cell_type": "markdown",
   "metadata": {},
   "source": [
    "### Part 4. Validation"
   ]
  },
  {
   "cell_type": "markdown",
   "metadata": {},
   "source": [
    "#### step 9. prediction error\n"
   ]
  },
  {
   "cell_type": "code",
   "execution_count": 20,
   "metadata": {},
   "outputs": [],
   "source": [
    "from knn.train_utils import train_knn_with_kfold\n",
    "from data_preprocess.data_utils import get_processed_data\n"
   ]
  },
  {
   "cell_type": "code",
   "execution_count": 22,
   "metadata": {},
   "outputs": [
    {
     "name": "stdout",
     "output_type": "stream",
     "text": [
      "mean_error = 21.96344956349244 M$\n"
     ]
    },
    {
     "data": {
      "text/plain": [
       "[19.868295106447917,\n",
       " 30.113583187040025,\n",
       " 16.532967832639805,\n",
       " 25.795460588887305,\n",
       " 17.506941102447147]"
      ]
     },
     "execution_count": 22,
     "metadata": {},
     "output_type": "execute_result"
    }
   ],
   "source": [
    "mean_error, kfold_errors = train_knn_with_kfold(\n",
    "    data_path=data_path,\n",
    "    target_feature=\"Total amount raised (USDm)\",\n",
    "    kflod_n_splits=5,\n",
    "    **best_hyperparameter,\n",
    ")\n",
    "print(f\"mean_error = {mean_error} M$\")\n",
    "kfold_errors\n"
   ]
  },
  {
   "cell_type": "code",
   "execution_count": null,
   "metadata": {},
   "outputs": [],
   "source": []
  }
 ],
 "metadata": {
  "interpreter": {
   "hash": "1123ec88e6546c59a178b8c37b077b856634b4b83572dee74e066f1859b3ead4"
  },
  "kernelspec": {
   "display_name": "Python 3.9.7 64-bit ('ml': conda)",
   "language": "python",
   "name": "python3"
  },
  "language_info": {
   "codemirror_mode": {
    "name": "ipython",
    "version": 3
   },
   "file_extension": ".py",
   "mimetype": "text/x-python",
   "name": "python",
   "nbconvert_exporter": "python",
   "pygments_lexer": "ipython3",
   "version": "3.9.7"
  },
  "orig_nbformat": 4
 },
 "nbformat": 4,
 "nbformat_minor": 2
}
