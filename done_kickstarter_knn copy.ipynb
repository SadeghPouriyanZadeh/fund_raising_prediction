{
 "cells": [
  {
   "cell_type": "code",
   "execution_count": 6,
   "metadata": {},
   "outputs": [],
   "source": [
    "# for autoreloading edited the modules and packages instead of restarting the kernel\n",
    "%reload_ext autoreload\n",
    "%autoreload 2"
   ]
  },
  {
   "cell_type": "markdown",
   "metadata": {},
   "source": [
    "## K-Nearest Neighbors (KNN) model"
   ]
  },
  {
   "cell_type": "code",
   "execution_count": 7,
   "metadata": {},
   "outputs": [],
   "source": [
    "from pathlib import Path\n",
    "import pandas as pd\n",
    "from data_preprocess.data_utils import get_processed_data\n",
    "from knn.train_utils import train_knn\n"
   ]
  },
  {
   "cell_type": "code",
   "execution_count": 8,
   "metadata": {},
   "outputs": [],
   "source": [
    "data_dir = Path(\"data_preprocess\")\n",
    "data_path = data_dir / \"kickstarter_2021.csv\"\n",
    "x, y = get_processed_data(data_path, \"usd_pledged\")"
   ]
  },
  {
   "cell_type": "code",
   "execution_count": 9,
   "metadata": {},
   "outputs": [],
   "source": [
    "# to set hyperparameters manually\n",
    "best_params = {\n",
    "    \"algorithm\": \"auto\",\n",
    "    \"leaf_size\": 30,\n",
    "    \"metric\": \"minkowski\",\n",
    "    \"n_jobs\": -1,\n",
    "    \"n_neighbors\": 15,\n",
    "    \"p\": 2,\n",
    "    \"weights\": 'uniform',\n",
    "}"
   ]
  },
  {
   "cell_type": "code",
   "execution_count": 10,
   "metadata": {},
   "outputs": [
    {
     "name": "stdout",
     "output_type": "stream",
     "text": [
      "error = 84928.45840979728 $\n"
     ]
    }
   ],
   "source": [
    "error, y_pred = train_knn(x, y, **best_params)\n",
    "print(f\"error = {error} $\")"
   ]
  },
  {
   "cell_type": "code",
   "execution_count": 13,
   "metadata": {},
   "outputs": [],
   "source": [
    "pd.DataFrame({\"y_true\": y.squeeze(), \"y_pred\": y_pred.squeeze()}).to_csv(\"results_knn.csv\", index=False)\n"
   ]
  },
  {
   "cell_type": "code",
   "execution_count": null,
   "metadata": {},
   "outputs": [],
   "source": []
  }
 ],
 "metadata": {
  "interpreter": {
   "hash": "1123ec88e6546c59a178b8c37b077b856634b4b83572dee74e066f1859b3ead4"
  },
  "kernelspec": {
   "display_name": "Python 3.9.7 64-bit ('ml': conda)",
   "language": "python",
   "name": "python3"
  },
  "language_info": {
   "codemirror_mode": {
    "name": "ipython",
    "version": 3
   },
   "file_extension": ".py",
   "mimetype": "text/x-python",
   "name": "python",
   "nbconvert_exporter": "python",
   "pygments_lexer": "ipython3",
   "version": "3.9.7"
  },
  "orig_nbformat": 4
 },
 "nbformat": 4,
 "nbformat_minor": 2
}
