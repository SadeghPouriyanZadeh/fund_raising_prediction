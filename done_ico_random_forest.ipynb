{
 "cells": [
  {
   "cell_type": "code",
   "execution_count": 1,
   "metadata": {},
   "outputs": [],
   "source": [
    "# for autoreloading edited the modules and packages instead of restarting the kernel\n",
    "%reload_ext autoreload\n",
    "%autoreload 2\n",
    "import warnings\n",
    "warnings.filterwarnings('ignore')"
   ]
  },
  {
   "cell_type": "markdown",
   "metadata": {},
   "source": [
    "## random forest"
   ]
  },
  {
   "cell_type": "markdown",
   "metadata": {},
   "source": [
    "### 1. data preparation"
   ]
  },
  {
   "cell_type": "code",
   "execution_count": 2,
   "metadata": {},
   "outputs": [],
   "source": [
    "from pathlib import Path\n",
    "from random_forest.data_utils import get_processed_data\n"
   ]
  },
  {
   "cell_type": "code",
   "execution_count": 3,
   "metadata": {},
   "outputs": [
    {
     "data": {
      "text/plain": [
       "WindowsPath('data_preprocess/cleaned_ico_dataset.csv')"
      ]
     },
     "execution_count": 3,
     "metadata": {},
     "output_type": "execute_result"
    }
   ],
   "source": [
    "data_path = Path(\"data_preprocess\") / \"cleaned_ico_dataset.csv\"\n",
    "x, y = get_processed_data(\n",
    "    data_path,\n",
    "    target_feature=\"Total amount raised (USDm)\",\n",
    "    normalize=True,\n",
    "    one_hot_encoder=False,\n",
    ")\n",
    "data_path\n"
   ]
  },
  {
   "cell_type": "markdown",
   "metadata": {},
   "source": [
    "### 2. hyperparameter tuning"
   ]
  },
  {
   "cell_type": "code",
   "execution_count": 4,
   "metadata": {},
   "outputs": [],
   "source": [
    "# params = {\n",
    "#     \"bootstrap\": [True, False],\n",
    "#     \"max_depth\": [10, 100, None],\n",
    "#     \"max_features\": [\"auto\", \"sqrt\"],\n",
    "#     \"min_samples_leaf\": [1, 2],\n",
    "#     \"min_samples_split\": [1, 10],\n",
    "#     \"n_estimators\": [100, 1000],\n",
    "# }\n",
    "# regressor = RandomForestRegressor()\n",
    "# best_params = find_best_hyperparameter(\n",
    "#     data_path,\n",
    "#     regressor,\n",
    "#     params,\n",
    "#     scoring=\"neg_mean_squared_error\",\n",
    "# )\n"
   ]
  },
  {
   "cell_type": "code",
   "execution_count": 5,
   "metadata": {},
   "outputs": [],
   "source": [
    "# params = {\n",
    "#     \"bootstrap\": [True],\n",
    "#     \"max_depth\": [10],\n",
    "#     \"max_features\": [\"auto\"],\n",
    "#     \"min_samples_leaf\": [2, 5, 10],\n",
    "#     \"min_samples_split\": [10, 25, 50],\n",
    "#     \"n_estimators\": [100],\n",
    "# }\n",
    "# regressor = RandomForestRegressor()\n",
    "# best_params = find_best_hyperparameter(\n",
    "#     data_path,\n",
    "#     regressor,\n",
    "#     params,\n",
    "#     scoring=\"neg_mean_squared_error\",\n",
    "# )\n"
   ]
  },
  {
   "cell_type": "code",
   "execution_count": 6,
   "metadata": {},
   "outputs": [],
   "source": [
    "from random_forest.train_utils import find_best_hyperparameter, train_forest_with_kfold\n",
    "from sklearn.ensemble import RandomForestRegressor\n"
   ]
  },
  {
   "cell_type": "code",
   "execution_count": 7,
   "metadata": {},
   "outputs": [],
   "source": [
    "# params = {\n",
    "#     \"bootstrap\": [True, False],\n",
    "#     \"max_depth\": [10, 100, None],\n",
    "#     \"max_features\": [\"auto\", \"sqrt\"],\n",
    "#     \"min_samples_leaf\": [1, 2],\n",
    "#     \"min_samples_split\": [1, 10],\n",
    "#     \"n_estimators\": [100, 1000],\n",
    "#     \"bootstrap\": [True],\n",
    "#     \"max_depth\": [10],\n",
    "#     \"max_features\": [\"auto\"],\n",
    "#     \"min_samples_leaf\": [2, 5, 10],\n",
    "#     \"min_samples_split\": [10, 25, 50],\n",
    "#     \"n_estimators\": [100],\n",
    "# }\n",
    "# regressor = RandomForestRegressor()\n",
    "# best_params = find_best_hyperparameter(\n",
    "#     data_path,\n",
    "#     regressor,\n",
    "#     params,\n",
    "#     scoring=\"neg_mean_squared_error\",\n",
    "# )\n",
    "# best_params\n"
   ]
  },
  {
   "cell_type": "code",
   "execution_count": 8,
   "metadata": {},
   "outputs": [],
   "source": [
    "best_params = {\n",
    "    \"bootstrap\": True,\n",
    "    \"max_depth\": 10,\n",
    "    \"max_features\": \"auto\",\n",
    "    \"min_samples_leaf\": 5,\n",
    "    \"min_samples_split\": 10,\n",
    "    \"n_estimators\": 100,\n",
    "    \"random_state\": 42,\n",
    "}\n"
   ]
  },
  {
   "cell_type": "markdown",
   "metadata": {},
   "source": [
    "### 3. training and validating the model"
   ]
  },
  {
   "cell_type": "code",
   "execution_count": 9,
   "metadata": {},
   "outputs": [
    {
     "name": "stdout",
     "output_type": "stream",
     "text": [
      "mean_error = 20.392328564261284 M$\n"
     ]
    },
    {
     "data": {
      "text/plain": [
       "[19.38591555289355,\n",
       " 15.796286440957699,\n",
       " 25.353355124773103,\n",
       " 28.598299050053832,\n",
       " 12.827786652628257]"
      ]
     },
     "execution_count": 9,
     "metadata": {},
     "output_type": "execute_result"
    }
   ],
   "source": [
    "mean_error, fold_errors = train_forest_with_kfold(\n",
    "    data_path,\n",
    "    target_feature=\"Total amount raised (USDm)\",\n",
    "    kflod_n_splits=5,\n",
    "    kfold_shuffle=True,\n",
    "    **best_params,\n",
    ")\n",
    "print(f\"mean_error = {mean_error} M$\")\n",
    "fold_errors\n"
   ]
  },
  {
   "cell_type": "code",
   "execution_count": null,
   "metadata": {},
   "outputs": [],
   "source": []
  }
 ],
 "metadata": {
  "interpreter": {
   "hash": "80087e092bc02f3d06e6e9041e469d3ac4c6d42735329ec50604bff3be951e3e"
  },
  "kernelspec": {
   "display_name": "Python 3.9.7 64-bit ('myenv': conda)",
   "language": "python",
   "name": "python3"
  },
  "language_info": {
   "codemirror_mode": {
    "name": "ipython",
    "version": 3
   },
   "file_extension": ".py",
   "mimetype": "text/x-python",
   "name": "python",
   "nbconvert_exporter": "python",
   "pygments_lexer": "ipython3",
   "version": "3.9.7"
  },
  "orig_nbformat": 4
 },
 "nbformat": 4,
 "nbformat_minor": 2
}
