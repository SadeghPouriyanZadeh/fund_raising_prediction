{
 "cells": [
  {
   "cell_type": "code",
   "execution_count": 1,
   "metadata": {},
   "outputs": [],
   "source": [
    "# for autoreloading edited the modules and packages instead of restarting the kernel\n",
    "%reload_ext autoreload\n",
    "%autoreload 2"
   ]
  },
  {
   "cell_type": "markdown",
   "metadata": {},
   "source": [
    "## Neural Network model"
   ]
  },
  {
   "cell_type": "markdown",
   "metadata": {},
   "source": [
    "### 1. hyperparameter tuning"
   ]
  },
  {
   "cell_type": "code",
   "execution_count": 2,
   "metadata": {},
   "outputs": [],
   "source": [
    "from pathlib import Path\n",
    "import torch\n",
    "from neural_network.params_utils import param_generator\n"
   ]
  },
  {
   "cell_type": "code",
   "execution_count": 3,
   "metadata": {},
   "outputs": [],
   "source": [
    "# log_version = 3\n",
    "# params = {\n",
    "#     \"data_path\": Path(\"data_preprocess\") / \"cleaned_ico_dataset.csv\",\n",
    "#     \"target_feature\": \"Total amount raised (USDm)\",\n",
    "#     \"drop_feature_list\": None,\n",
    "#     \"log_path\": Path(\"neural_network\") / \"logs\" / f\"log_v{log_version}.csv\",\n",
    "#     \"epochs\": 10,\n",
    "#     \"device\": \"cuda\" if torch.cuda.is_available() else \"cpu\",\n",
    "#     \"params\": param_generator(),\n",
    "# }\n"
   ]
  },
  {
   "cell_type": "code",
   "execution_count": 4,
   "metadata": {},
   "outputs": [],
   "source": [
    "# from neural_network.params_utils import tune_hyperparameters\n"
   ]
  },
  {
   "cell_type": "code",
   "execution_count": 5,
   "metadata": {},
   "outputs": [],
   "source": [
    "# tune_hyperparameters(**params)\n"
   ]
  },
  {
   "cell_type": "code",
   "execution_count": 6,
   "metadata": {},
   "outputs": [],
   "source": [
    "from neural_network.train_utils import run\n"
   ]
  },
  {
   "cell_type": "code",
   "execution_count": 7,
   "metadata": {},
   "outputs": [
    {
     "name": "stdout",
     "output_type": "stream",
     "text": [
      "(train_loss**0.5, val_loss**0.5)=(102928.40556995127, 116369.22592168729)\n",
      "(train_loss**0.5, val_loss**0.5)=(102788.30183818005, 116240.33873916932)\n",
      "(train_loss**0.5, val_loss**0.5)=(102658.5690421369, 116150.73144173819)\n",
      "(train_loss**0.5, val_loss**0.5)=(102524.92547468707, 115950.66600431601)\n",
      "(train_loss**0.5, val_loss**0.5)=(102334.49729420425, 115835.93230449177)\n",
      "(train_loss**0.5, val_loss**0.5)=(102197.64190648936, 115735.21579300736)\n",
      "(train_loss**0.5, val_loss**0.5)=(102115.71115197237, 115641.36759613648)\n",
      "(train_loss**0.5, val_loss**0.5)=(102042.56086183197, 115562.8160956162)\n",
      "(train_loss**0.5, val_loss**0.5)=(101973.9624709982, 115539.0657809029)\n",
      "(train_loss**0.5, val_loss**0.5)=(101920.13999192989, 115498.69901038738)\n",
      "(train_loss**0.5, val_loss**0.5)=(101865.53559711787, 115492.10834866183)\n",
      "(train_loss**0.5, val_loss**0.5)=(101810.7922762171, 115445.025028627)\n",
      "(train_loss**0.5, val_loss**0.5)=(101789.79665378106, 115383.64258475712)\n",
      "(train_loss**0.5, val_loss**0.5)=(101749.83301101619, 115358.7069300975)\n",
      "(train_loss**0.5, val_loss**0.5)=(101710.19018350336, 115339.15653188092)\n",
      "(train_loss**0.5, val_loss**0.5)=(101673.28861320137, 115342.09703913021)\n",
      "(train_loss**0.5, val_loss**0.5)=(101668.36016189071, 115274.57567952806)\n",
      "(train_loss**0.5, val_loss**0.5)=(101621.75630942534, 115424.79290590661)\n",
      "(train_loss**0.5, val_loss**0.5)=(101622.1058800438, 115304.61663632901)\n",
      "(train_loss**0.5, val_loss**0.5)=(101616.06883805366, 115275.50250548491)\n"
     ]
    }
   ],
   "source": [
    "param_dict = {\n",
    "    \"data_path\": r\"data_preprocess\\\\raw_data\\\\kickstarter_2021\\\\kickstarter_2021.csv\",\n",
    "    \"epochs\": 20,\n",
    "    \"device\": \"cuda\" if torch.cuda.is_available() else \"cpu\",\n",
    "    \"batch_size\": 128,\n",
    "    \"hidden_layers\": 8,\n",
    "    \"layer_units\": 64,\n",
    "    \"learning_rate\": 1,\n",
    "    \"normalize\": True,\n",
    "    \"one_hot_encode\": False,\n",
    "    \"test_size\": 0.2,\n",
    "}\n",
    "train_losses, val_losses, model = run(\n",
    "    target_feature=\"usd_pledged\", drop_features_list=None, **param_dict\n",
    ")\n"
   ]
  },
  {
   "cell_type": "code",
   "execution_count": 8,
   "metadata": {},
   "outputs": [],
   "source": [
    "torch.save(model.state_dict(), r'neural_network\\\\kickstarter_model.pt')\n"
   ]
  }
 ],
 "metadata": {
  "interpreter": {
   "hash": "bfc614eaf004b96023ad33f8670ef0653b63aa7b2ec3e67983ab3e5ca4797f64"
  },
  "kernelspec": {
   "display_name": "Python 3.9.7 64-bit ('dl': conda)",
   "language": "python",
   "name": "python3"
  },
  "language_info": {
   "codemirror_mode": {
    "name": "ipython",
    "version": 3
   },
   "file_extension": ".py",
   "mimetype": "text/x-python",
   "name": "python",
   "nbconvert_exporter": "python",
   "pygments_lexer": "ipython3",
   "version": "3.9.7"
  },
  "orig_nbformat": 4
 },
 "nbformat": 4,
 "nbformat_minor": 2
}
