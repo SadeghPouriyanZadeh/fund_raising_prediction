{
 "cells": [
  {
   "cell_type": "code",
   "execution_count": 1,
   "metadata": {},
   "outputs": [],
   "source": [
    "# for autoreloading edited the modules and packages instead of restarting the kernel\n",
    "%reload_ext autoreload\n",
    "%autoreload 2"
   ]
  },
  {
   "cell_type": "markdown",
   "metadata": {},
   "source": [
    "## Neural Network model"
   ]
  },
  {
   "cell_type": "markdown",
   "metadata": {},
   "source": [
    "### 1. hyperparameter tuning"
   ]
  },
  {
   "cell_type": "code",
   "execution_count": 2,
   "metadata": {},
   "outputs": [],
   "source": [
    "from pathlib import Path\n",
    "import torch\n",
    "from data_preprocess.data_utils import get_processed_data"
   ]
  },
  {
   "cell_type": "code",
   "execution_count": 21,
   "metadata": {},
   "outputs": [],
   "source": [
    "from neural_network.train_utils import train_nn\n",
    "import pandas as pd"
   ]
  },
  {
   "cell_type": "code",
   "execution_count": 4,
   "metadata": {},
   "outputs": [],
   "source": [
    "data_dir = Path(\"data_preprocess\")\n",
    "data_path = data_dir / \"kickstarter_2021.csv\"\n",
    "x, y = get_processed_data(data_path, \"usd_pledged\")"
   ]
  },
  {
   "cell_type": "code",
   "execution_count": 18,
   "metadata": {},
   "outputs": [],
   "source": [
    "param_dict = {\n",
    "    \"data_path\": r\"data_preprocess\\\\raw_data\\\\kickstarter_2021\\\\kickstarter_2021.csv\",\n",
    "    \"epochs\": 20,\n",
    "    \"device\": \"cuda\" if torch.cuda.is_available() else \"cpu\",\n",
    "    \"batch_size\": 128,\n",
    "    \"hidden_layers\": 8,\n",
    "    \"layer_units\": 64,\n",
    "    \"learning_rate\": 1,\n",
    "    \"normalize\": True,\n",
    "    \"one_hot_encode\": False,\n",
    "    \"test_size\": 0.2,\n",
    "}"
   ]
  },
  {
   "cell_type": "code",
   "execution_count": 19,
   "metadata": {},
   "outputs": [
    {
     "name": "stdout",
     "output_type": "stream",
     "text": [
      "object\n"
     ]
    }
   ],
   "source": [
    "print(x.dtype)"
   ]
  },
  {
   "cell_type": "code",
   "execution_count": 20,
   "metadata": {},
   "outputs": [
    {
     "name": "stdout",
     "output_type": "stream",
     "text": [
      "(train_loss**0.5, val_loss**0.5)=(111127.23467288759, 81243.82031444996)\n",
      "(train_loss**0.5, val_loss**0.5)=(110994.92418700813, 81089.90118498776)\n",
      "(train_loss**0.5, val_loss**0.5)=(111761.4678919107, 80960.43679665844)\n",
      "(train_loss**0.5, val_loss**0.5)=(110830.23827120019, 80936.5111444106)\n",
      "(train_loss**0.5, val_loss**0.5)=(110691.05295109945, 80733.84002335824)\n",
      "(train_loss**0.5, val_loss**0.5)=(110618.14593443931, 80645.21887021081)\n",
      "(train_loss**0.5, val_loss**0.5)=(110542.42312235857, 80698.54543152764)\n",
      "(train_loss**0.5, val_loss**0.5)=(110494.96389353085, 80509.87553864687)\n",
      "(train_loss**0.5, val_loss**0.5)=(110440.44291479427, 80466.94052752269)\n",
      "(train_loss**0.5, val_loss**0.5)=(110397.37826389277, 80414.7388811581)\n",
      "(train_loss**0.5, val_loss**0.5)=(110358.18773954635, 80385.69312356155)\n",
      "(train_loss**0.5, val_loss**0.5)=(110441.91869281966, 80358.5619233875)\n",
      "(train_loss**0.5, val_loss**0.5)=(110310.57020687428, 80616.44727716768)\n",
      "(train_loss**0.5, val_loss**0.5)=(110285.05971647355, 80331.3432798587)\n",
      "(train_loss**0.5, val_loss**0.5)=(110272.63098929124, 80313.89210319922)\n",
      "(train_loss**0.5, val_loss**0.5)=(110260.29777940556, 80294.63213285377)\n",
      "(train_loss**0.5, val_loss**0.5)=(110248.25835708115, 80411.92746777557)\n",
      "(train_loss**0.5, val_loss**0.5)=(110241.37337480587, 80287.63794366633)\n",
      "(train_loss**0.5, val_loss**0.5)=(110243.84929534604, 80281.82960507846)\n",
      "(train_loss**0.5, val_loss**0.5)=(110220.36559446208, 80306.53136179555)\n",
      "error = 6490706876.535667 $\n"
     ]
    }
   ],
   "source": [
    "train_losses, val_losses, y_pred, model = train_nn(x, y, **param_dict)\n",
    "print(f\"error = {val_losses.mean()} $\")"
   ]
  },
  {
   "cell_type": "code",
   "execution_count": 23,
   "metadata": {},
   "outputs": [],
   "source": [
    "pd.DataFrame({\"y_true\": y.squeeze(), \"y_pred\": y_pred.squeeze()}).to_csv(\"results_nn.csv\", index=False)\n"
   ]
  },
  {
   "cell_type": "code",
   "execution_count": null,
   "metadata": {},
   "outputs": [],
   "source": []
  }
 ],
 "metadata": {
  "interpreter": {
   "hash": "bfc614eaf004b96023ad33f8670ef0653b63aa7b2ec3e67983ab3e5ca4797f64"
  },
  "kernelspec": {
   "display_name": "Python 3.9.7 64-bit ('dl': conda)",
   "language": "python",
   "name": "python3"
  },
  "language_info": {
   "codemirror_mode": {
    "name": "ipython",
    "version": 3
   },
   "file_extension": ".py",
   "mimetype": "text/x-python",
   "name": "python",
   "nbconvert_exporter": "python",
   "pygments_lexer": "ipython3",
   "version": "3.9.7"
  },
  "orig_nbformat": 4
 },
 "nbformat": 4,
 "nbformat_minor": 2
}
