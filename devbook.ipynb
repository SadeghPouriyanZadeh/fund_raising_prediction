{
 "cells": [
  {
   "cell_type": "code",
   "execution_count": 70,
   "metadata": {},
   "outputs": [],
   "source": [
    "%reload_ext autoreload\n",
    "%autoreload 2"
   ]
  },
  {
   "cell_type": "code",
   "execution_count": 71,
   "metadata": {},
   "outputs": [],
   "source": [
    "import torch\n",
    "from torch.utils.data import DataLoader, Dataset\n",
    "import numpy as np\n",
    "import pandas as pd\n",
    "from data import CancerDataset\n",
    "from pathlib import Path\n",
    "from sklearn.model_selection import train_test_split\n",
    "from model import CancerDetector\n",
    "from torch import nn, optim\n",
    "from matplotlib import pyplot as plt"
   ]
  },
  {
   "cell_type": "code",
   "execution_count": 72,
   "metadata": {},
   "outputs": [],
   "source": [
    "test_size = 0.2\n",
    "batch_size = 32\n",
    "\n",
    "data_dir = Path(\"dataset\")\n",
    "data_path = data_dir / \"survey_lung_cancer.csv\"\n",
    "df = pd.read_csv(data_path)\n",
    "df_train, df_test = train_test_split(df, test_size=test_size, random_state=23)\n",
    "train_dataset = CancerDataset(df_train)\n",
    "test_dataset = CancerDataset(df_test)\n",
    "train_dataloader = DataLoader(train_dataset, batch_size=batch_size, shuffle=True)\n",
    "test_dataloader = DataLoader(test_dataset, batch_size=batch_size, shuffle=True)"
   ]
  },
  {
   "cell_type": "code",
   "execution_count": 73,
   "metadata": {},
   "outputs": [],
   "source": [
    "model = CancerDetector()"
   ]
  },
  {
   "cell_type": "code",
   "execution_count": 74,
   "metadata": {},
   "outputs": [],
   "source": [
    "# train_features, train_labels = (next(iter(train_dataloader)))"
   ]
  },
  {
   "cell_type": "code",
   "execution_count": 75,
   "metadata": {},
   "outputs": [],
   "source": [
    "criterion = torch.nn.BCELoss()\n",
    "learning_rate = 3e-3\n",
    "optimizer = torch.optim.Adam(model.parameters(), lr=learning_rate)"
   ]
  },
  {
   "cell_type": "code",
   "execution_count": 76,
   "metadata": {},
   "outputs": [],
   "source": [
    "def train_loop(model, dataloader, criterion, optimizer):\n",
    "    mean_loss = 0\n",
    "    for x, y in dataloader:\n",
    "        pred = model(x)\n",
    "        loss = criterion(pred.squeeze(), y)\n",
    "        mean_loss += loss.item() / len(dataloader)\n",
    "        optimizer.zero_grad()\n",
    "        loss.backward()\n",
    "        optimizer.step()\n",
    "    return mean_loss"
   ]
  },
  {
   "cell_type": "code",
   "execution_count": 77,
   "metadata": {},
   "outputs": [],
   "source": [
    "@torch.no_grad()\n",
    "def val_loop(model, dataloader, criterion):\n",
    "    mean_loss = 0\n",
    "    for x, y in dataloader:\n",
    "        pred = model(x)\n",
    "        loss = criterion(pred.squeeze(), y)\n",
    "        mean_loss += loss.item() / len(dataloader)\n",
    "    return mean_loss\n"
   ]
  },
  {
   "cell_type": "code",
   "execution_count": 78,
   "metadata": {},
   "outputs": [],
   "source": [
    "\n",
    "def train(epochs, model, dataloader, criterion, optimizer):\n",
    "    train_losses = []\n",
    "    val_losses = []\n",
    "\n",
    "    for _ in range(epochs):\n",
    "        train_loss = train_loop(model, dataloader, criterion, optimizer)\n",
    "        val_loss = val_loop(model, dataloader, criterion)\n",
    "        train_losses.append(train_loss)\n",
    "        val_losses.append(val_loss)\n",
    "    return train_losses, val_losses"
   ]
  },
  {
   "cell_type": "code",
   "execution_count": 79,
   "metadata": {},
   "outputs": [
    {
     "data": {
      "text/plain": [
       "[<matplotlib.lines.Line2D at 0x201aba7c4f0>]"
      ]
     },
     "execution_count": 79,
     "metadata": {},
     "output_type": "execute_result"
    },
    {
     "data": {
      "image/png": "[encoded data removed]",
      "text/plain": [
       "<Figure size 432x288 with 1 Axes>"
      ]
     },
     "metadata": {
      "needs_background": "light"
     },
     "output_type": "display_data"
    }
   ],
   "source": [
    "train_losses, val_losses = train(100, model, train_dataloader, criterion, optimizer)\n",
    "plt.plot(train_losses)"
   ]
  },
  {
   "cell_type": "code",
   "execution_count": null,
   "metadata": {},
   "outputs": [],
   "source": []
  }
 ],
 "metadata": {
  "interpreter": {
   "hash": "bfc614eaf004b96023ad33f8670ef0653b63aa7b2ec3e67983ab3e5ca4797f64"
  },
  "kernelspec": {
   "display_name": "Python 3.9.7 64-bit ('dl': conda)",
   "language": "python",
   "name": "python3"
  },
  "language_info": {
   "codemirror_mode": {
    "name": "ipython",
    "version": 3
   },
   "file_extension": ".py",
   "mimetype": "text/x-python",
   "name": "python",
   "nbconvert_exporter": "python",
   "pygments_lexer": "ipython3",
   "version": "3.9.7"
  },
  "orig_nbformat": 4
 },
 "nbformat": 4,
 "nbformat_minor": 2
}
