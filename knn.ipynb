{
 "cells": [
  {
   "cell_type": "code",
   "execution_count": 1,
   "metadata": {},
   "outputs": [],
   "source": [
    "# for autoreloading edited the modules and packages instead of restarting the kernel\n",
    "%reload_ext autoreload\n",
    "%autoreload 2"
   ]
  },
  {
   "cell_type": "markdown",
   "metadata": {},
   "source": [
    "## K-Nearest Neighbors (KNN) model"
   ]
  },
  {
   "cell_type": "code",
   "execution_count": 2,
   "metadata": {},
   "outputs": [],
   "source": [
    "# from collections import Counter\n",
    "# import numpy as np\n",
    "# from pandas import DataFrame\n",
    "# from sklearn import metrics, preprocessing\n",
    "# from sklearn.neighbors import KNeighborsClassifier\n"
   ]
  },
  {
   "cell_type": "markdown",
   "metadata": {},
   "source": [
    "### 1. data preparation"
   ]
  },
  {
   "cell_type": "markdown",
   "metadata": {},
   "source": [
    "#### 1.1. prepare dataset"
   ]
  },
  {
   "cell_type": "code",
   "execution_count": 3,
   "metadata": {},
   "outputs": [],
   "source": [
    "from pathlib import Path\n",
    "import pandas as pd\n"
   ]
  },
  {
   "cell_type": "code",
   "execution_count": 4,
   "metadata": {},
   "outputs": [
    {
     "data": {
      "text/html": [
       "<div>\n",
       "<style scoped>\n",
       "    .dataframe tbody tr th:only-of-type {\n",
       "        vertical-align: middle;\n",
       "    }\n",
       "\n",
       "    .dataframe tbody tr th {\n",
       "        vertical-align: top;\n",
       "    }\n",
       "\n",
       "    .dataframe thead th {\n",
       "        text-align: right;\n",
       "    }\n",
       "</style>\n",
       "<table border=\"1\" class=\"dataframe\">\n",
       "  <thead>\n",
       "    <tr style=\"text-align: right;\">\n",
       "      <th></th>\n",
       "      <th>token_is_new_blockchain</th>\n",
       "      <th>Team member with business background</th>\n",
       "      <th>Postal address known</th>\n",
       "      <th>issued_on_other_platf</th>\n",
       "      <th>Independent custodian for ICO funds</th>\n",
       "      <th>Length of crowdsale (calendar days, actual)</th>\n",
       "      <th>Celebrity endorsement</th>\n",
       "      <th>Legal entity is corporation</th>\n",
       "      <th>Decentralised platform</th>\n",
       "      <th>Investors from other (non-US) jurisdictions excluded</th>\n",
       "      <th>...</th>\n",
       "      <th>switzerland</th>\n",
       "      <th>Crowdsale is auction</th>\n",
       "      <th>token_is_cryptocurrency</th>\n",
       "      <th>Business model available</th>\n",
       "      <th>Is currency or general purpose blockchain</th>\n",
       "      <th>Token share producers/miners (ex ante)</th>\n",
       "      <th>Team tokens locked up</th>\n",
       "      <th>Qualified investors only</th>\n",
       "      <th>Unsold tokens kept by issuer</th>\n",
       "      <th>soft_cap</th>\n",
       "    </tr>\n",
       "  </thead>\n",
       "  <tbody>\n",
       "    <tr>\n",
       "      <th>count</th>\n",
       "      <td>218.000000</td>\n",
       "      <td>218.000000</td>\n",
       "      <td>218.000000</td>\n",
       "      <td>218.0</td>\n",
       "      <td>218.000000</td>\n",
       "      <td>218.000000</td>\n",
       "      <td>218.000000</td>\n",
       "      <td>218.000000</td>\n",
       "      <td>218.000000</td>\n",
       "      <td>218.000000</td>\n",
       "      <td>...</td>\n",
       "      <td>218.000000</td>\n",
       "      <td>218.000000</td>\n",
       "      <td>218.000000</td>\n",
       "      <td>218.000000</td>\n",
       "      <td>218.000000</td>\n",
       "      <td>218.000000</td>\n",
       "      <td>218.000000</td>\n",
       "      <td>218.000000</td>\n",
       "      <td>218.00000</td>\n",
       "      <td>2.180000e+02</td>\n",
       "    </tr>\n",
       "    <tr>\n",
       "      <th>mean</th>\n",
       "      <td>0.041284</td>\n",
       "      <td>0.582569</td>\n",
       "      <td>0.706422</td>\n",
       "      <td>1.0</td>\n",
       "      <td>0.032110</td>\n",
       "      <td>27.481651</td>\n",
       "      <td>0.041284</td>\n",
       "      <td>0.701835</td>\n",
       "      <td>0.642202</td>\n",
       "      <td>0.426606</td>\n",
       "      <td>...</td>\n",
       "      <td>0.123853</td>\n",
       "      <td>0.068807</td>\n",
       "      <td>0.091743</td>\n",
       "      <td>0.660550</td>\n",
       "      <td>0.133028</td>\n",
       "      <td>0.015032</td>\n",
       "      <td>0.637615</td>\n",
       "      <td>0.022936</td>\n",
       "      <td>0.43578</td>\n",
       "      <td>3.117634e+07</td>\n",
       "    </tr>\n",
       "    <tr>\n",
       "      <th>std</th>\n",
       "      <td>0.199405</td>\n",
       "      <td>0.494270</td>\n",
       "      <td>0.456449</td>\n",
       "      <td>0.0</td>\n",
       "      <td>0.176698</td>\n",
       "      <td>22.536241</td>\n",
       "      <td>0.199405</td>\n",
       "      <td>0.458505</td>\n",
       "      <td>0.480456</td>\n",
       "      <td>0.495722</td>\n",
       "      <td>...</td>\n",
       "      <td>0.330172</td>\n",
       "      <td>0.253709</td>\n",
       "      <td>0.289327</td>\n",
       "      <td>0.474612</td>\n",
       "      <td>0.340386</td>\n",
       "      <td>0.080731</td>\n",
       "      <td>0.481796</td>\n",
       "      <td>0.150043</td>\n",
       "      <td>0.49700</td>\n",
       "      <td>3.097813e+08</td>\n",
       "    </tr>\n",
       "    <tr>\n",
       "      <th>min</th>\n",
       "      <td>0.000000</td>\n",
       "      <td>0.000000</td>\n",
       "      <td>0.000000</td>\n",
       "      <td>1.0</td>\n",
       "      <td>0.000000</td>\n",
       "      <td>1.000000</td>\n",
       "      <td>0.000000</td>\n",
       "      <td>0.000000</td>\n",
       "      <td>0.000000</td>\n",
       "      <td>0.000000</td>\n",
       "      <td>...</td>\n",
       "      <td>0.000000</td>\n",
       "      <td>0.000000</td>\n",
       "      <td>0.000000</td>\n",
       "      <td>0.000000</td>\n",
       "      <td>0.000000</td>\n",
       "      <td>0.000000</td>\n",
       "      <td>0.000000</td>\n",
       "      <td>0.000000</td>\n",
       "      <td>0.00000</td>\n",
       "      <td>0.000000e+00</td>\n",
       "    </tr>\n",
       "    <tr>\n",
       "      <th>25%</th>\n",
       "      <td>0.000000</td>\n",
       "      <td>0.000000</td>\n",
       "      <td>0.000000</td>\n",
       "      <td>1.0</td>\n",
       "      <td>0.000000</td>\n",
       "      <td>10.250000</td>\n",
       "      <td>0.000000</td>\n",
       "      <td>0.000000</td>\n",
       "      <td>0.000000</td>\n",
       "      <td>0.000000</td>\n",
       "      <td>...</td>\n",
       "      <td>0.000000</td>\n",
       "      <td>0.000000</td>\n",
       "      <td>0.000000</td>\n",
       "      <td>0.000000</td>\n",
       "      <td>0.000000</td>\n",
       "      <td>0.000000</td>\n",
       "      <td>0.000000</td>\n",
       "      <td>0.000000</td>\n",
       "      <td>0.00000</td>\n",
       "      <td>0.000000e+00</td>\n",
       "    </tr>\n",
       "    <tr>\n",
       "      <th>50%</th>\n",
       "      <td>0.000000</td>\n",
       "      <td>1.000000</td>\n",
       "      <td>1.000000</td>\n",
       "      <td>1.0</td>\n",
       "      <td>0.000000</td>\n",
       "      <td>29.000000</td>\n",
       "      <td>0.000000</td>\n",
       "      <td>1.000000</td>\n",
       "      <td>1.000000</td>\n",
       "      <td>0.000000</td>\n",
       "      <td>...</td>\n",
       "      <td>0.000000</td>\n",
       "      <td>0.000000</td>\n",
       "      <td>0.000000</td>\n",
       "      <td>1.000000</td>\n",
       "      <td>0.000000</td>\n",
       "      <td>0.000000</td>\n",
       "      <td>1.000000</td>\n",
       "      <td>0.000000</td>\n",
       "      <td>0.00000</td>\n",
       "      <td>1.000000e+06</td>\n",
       "    </tr>\n",
       "    <tr>\n",
       "      <th>75%</th>\n",
       "      <td>0.000000</td>\n",
       "      <td>1.000000</td>\n",
       "      <td>1.000000</td>\n",
       "      <td>1.0</td>\n",
       "      <td>0.000000</td>\n",
       "      <td>33.000000</td>\n",
       "      <td>0.000000</td>\n",
       "      <td>1.000000</td>\n",
       "      <td>1.000000</td>\n",
       "      <td>1.000000</td>\n",
       "      <td>...</td>\n",
       "      <td>0.000000</td>\n",
       "      <td>0.000000</td>\n",
       "      <td>0.000000</td>\n",
       "      <td>1.000000</td>\n",
       "      <td>0.000000</td>\n",
       "      <td>0.000000</td>\n",
       "      <td>1.000000</td>\n",
       "      <td>0.000000</td>\n",
       "      <td>1.00000</td>\n",
       "      <td>4.807583e+06</td>\n",
       "    </tr>\n",
       "    <tr>\n",
       "      <th>max</th>\n",
       "      <td>1.000000</td>\n",
       "      <td>1.000000</td>\n",
       "      <td>1.000000</td>\n",
       "      <td>1.0</td>\n",
       "      <td>1.000000</td>\n",
       "      <td>148.000000</td>\n",
       "      <td>1.000000</td>\n",
       "      <td>1.000000</td>\n",
       "      <td>1.000000</td>\n",
       "      <td>1.000000</td>\n",
       "      <td>...</td>\n",
       "      <td>1.000000</td>\n",
       "      <td>1.000000</td>\n",
       "      <td>1.000000</td>\n",
       "      <td>1.000000</td>\n",
       "      <td>1.000000</td>\n",
       "      <td>0.880000</td>\n",
       "      <td>1.000000</td>\n",
       "      <td>1.000000</td>\n",
       "      <td>1.00000</td>\n",
       "      <td>4.276000e+09</td>\n",
       "    </tr>\n",
       "  </tbody>\n",
       "</table>\n",
       "<p>8 rows × 72 columns</p>\n",
       "</div>"
      ],
      "text/plain": [
       "       token_is_new_blockchain  Team member with business background  \\\n",
       "count               218.000000                            218.000000   \n",
       "mean                  0.041284                              0.582569   \n",
       "std                   0.199405                              0.494270   \n",
       "min                   0.000000                              0.000000   \n",
       "25%                   0.000000                              0.000000   \n",
       "50%                   0.000000                              1.000000   \n",
       "75%                   0.000000                              1.000000   \n",
       "max                   1.000000                              1.000000   \n",
       "\n",
       "       Postal address known  issued_on_other_platf  \\\n",
       "count            218.000000                  218.0   \n",
       "mean               0.706422                    1.0   \n",
       "std                0.456449                    0.0   \n",
       "min                0.000000                    1.0   \n",
       "25%                0.000000                    1.0   \n",
       "50%                1.000000                    1.0   \n",
       "75%                1.000000                    1.0   \n",
       "max                1.000000                    1.0   \n",
       "\n",
       "       Independent custodian for ICO funds  \\\n",
       "count                           218.000000   \n",
       "mean                              0.032110   \n",
       "std                               0.176698   \n",
       "min                               0.000000   \n",
       "25%                               0.000000   \n",
       "50%                               0.000000   \n",
       "75%                               0.000000   \n",
       "max                               1.000000   \n",
       "\n",
       "       Length of crowdsale (calendar days, actual)  Celebrity endorsement  \\\n",
       "count                                   218.000000             218.000000   \n",
       "mean                                     27.481651               0.041284   \n",
       "std                                      22.536241               0.199405   \n",
       "min                                       1.000000               0.000000   \n",
       "25%                                      10.250000               0.000000   \n",
       "50%                                      29.000000               0.000000   \n",
       "75%                                      33.000000               0.000000   \n",
       "max                                     148.000000               1.000000   \n",
       "\n",
       "       Legal entity is corporation  Decentralised platform  \\\n",
       "count                   218.000000              218.000000   \n",
       "mean                      0.701835                0.642202   \n",
       "std                       0.458505                0.480456   \n",
       "min                       0.000000                0.000000   \n",
       "25%                       0.000000                0.000000   \n",
       "50%                       1.000000                1.000000   \n",
       "75%                       1.000000                1.000000   \n",
       "max                       1.000000                1.000000   \n",
       "\n",
       "       Investors from other (non-US) jurisdictions excluded  ...  switzerland  \\\n",
       "count                                         218.000000     ...   218.000000   \n",
       "mean                                            0.426606     ...     0.123853   \n",
       "std                                             0.495722     ...     0.330172   \n",
       "min                                             0.000000     ...     0.000000   \n",
       "25%                                             0.000000     ...     0.000000   \n",
       "50%                                             0.000000     ...     0.000000   \n",
       "75%                                             1.000000     ...     0.000000   \n",
       "max                                             1.000000     ...     1.000000   \n",
       "\n",
       "       Crowdsale is auction  token_is_cryptocurrency  \\\n",
       "count            218.000000               218.000000   \n",
       "mean               0.068807                 0.091743   \n",
       "std                0.253709                 0.289327   \n",
       "min                0.000000                 0.000000   \n",
       "25%                0.000000                 0.000000   \n",
       "50%                0.000000                 0.000000   \n",
       "75%                0.000000                 0.000000   \n",
       "max                1.000000                 1.000000   \n",
       "\n",
       "       Business model available  Is currency or general purpose blockchain  \\\n",
       "count                218.000000                                 218.000000   \n",
       "mean                   0.660550                                   0.133028   \n",
       "std                    0.474612                                   0.340386   \n",
       "min                    0.000000                                   0.000000   \n",
       "25%                    0.000000                                   0.000000   \n",
       "50%                    1.000000                                   0.000000   \n",
       "75%                    1.000000                                   0.000000   \n",
       "max                    1.000000                                   1.000000   \n",
       "\n",
       "       Token share producers/miners (ex ante)  Team tokens locked up  \\\n",
       "count                              218.000000             218.000000   \n",
       "mean                                 0.015032               0.637615   \n",
       "std                                  0.080731               0.481796   \n",
       "min                                  0.000000               0.000000   \n",
       "25%                                  0.000000               0.000000   \n",
       "50%                                  0.000000               1.000000   \n",
       "75%                                  0.000000               1.000000   \n",
       "max                                  0.880000               1.000000   \n",
       "\n",
       "       Qualified investors only  Unsold tokens kept by issuer      soft_cap  \n",
       "count                218.000000                     218.00000  2.180000e+02  \n",
       "mean                   0.022936                       0.43578  3.117634e+07  \n",
       "std                    0.150043                       0.49700  3.097813e+08  \n",
       "min                    0.000000                       0.00000  0.000000e+00  \n",
       "25%                    0.000000                       0.00000  0.000000e+00  \n",
       "50%                    0.000000                       0.00000  1.000000e+06  \n",
       "75%                    0.000000                       1.00000  4.807583e+06  \n",
       "max                    1.000000                       1.00000  4.276000e+09  \n",
       "\n",
       "[8 rows x 72 columns]"
      ]
     },
     "execution_count": 4,
     "metadata": {},
     "output_type": "execute_result"
    }
   ],
   "source": [
    "data_dir = Path(\"data_preprocess\")\n",
    "data_path = data_dir / \"cleaned_ico_dataset.csv\"\n",
    "\n",
    "df = pd.read_csv(data_path)\n",
    "df.describe()\n"
   ]
  },
  {
   "cell_type": "markdown",
   "metadata": {},
   "source": [
    "***"
   ]
  },
  {
   "cell_type": "markdown",
   "metadata": {},
   "source": [
    "#### step 2. handle missing values"
   ]
  },
  {
   "cell_type": "code",
   "execution_count": 5,
   "metadata": {},
   "outputs": [
    {
     "data": {
      "text/plain": [
       "0"
      ]
     },
     "execution_count": 5,
     "metadata": {},
     "output_type": "execute_result"
    }
   ],
   "source": [
    "nan_values = sum(df.isna().sum())\n",
    "nan_values\n"
   ]
  },
  {
   "cell_type": "markdown",
   "metadata": {},
   "source": [
    "There are no missing data.  \n",
    "It was handled before; So there is no need to handle missing data."
   ]
  },
  {
   "cell_type": "markdown",
   "metadata": {},
   "source": [
    "***"
   ]
  },
  {
   "cell_type": "markdown",
   "metadata": {},
   "source": [
    "### Part 2. Feature Selection"
   ]
  },
  {
   "cell_type": "markdown",
   "metadata": {},
   "source": [
    "#### step 3. select features"
   ]
  },
  {
   "cell_type": "code",
   "execution_count": 6,
   "metadata": {},
   "outputs": [],
   "source": [
    "from data_preprocess.data_utils import get_processed_data\n"
   ]
  },
  {
   "cell_type": "code",
   "execution_count": 7,
   "metadata": {},
   "outputs": [
    {
     "data": {
      "text/plain": [
       "((218, 89), (218, 1))"
      ]
     },
     "execution_count": 7,
     "metadata": {},
     "output_type": "execute_result"
    }
   ],
   "source": [
    "x, y = get_processed_data(data_path, one_hot_encode=False)\n",
    "x.shape, y.shape\n"
   ]
  },
  {
   "cell_type": "markdown",
   "metadata": {},
   "source": [
    "---"
   ]
  },
  {
   "cell_type": "markdown",
   "metadata": {},
   "source": [
    "#### step 4. visualize heatmap"
   ]
  },
  {
   "cell_type": "code",
   "execution_count": 8,
   "metadata": {},
   "outputs": [],
   "source": [
    "import seaborn as sns\n"
   ]
  },
  {
   "cell_type": "code",
   "execution_count": 9,
   "metadata": {},
   "outputs": [
    {
     "data": {
      "image/png": "[encoded data removed]",
      "text/plain": [
       "<Figure size 432x288 with 2 Axes>"
      ]
     },
     "metadata": {},
     "output_type": "display_data"
    }
   ],
   "source": [
    "sns.set_theme()\n",
    "ax = sns.heatmap(x)\n"
   ]
  },
  {
   "cell_type": "markdown",
   "metadata": {},
   "source": [
    "comparing values in the above figure is hard because of large differences between feature values.  \n",
    "the solution is to normalize feature values."
   ]
  },
  {
   "cell_type": "markdown",
   "metadata": {},
   "source": [
    "---"
   ]
  },
  {
   "cell_type": "markdown",
   "metadata": {},
   "source": [
    "#### step 5. standardize input features"
   ]
  },
  {
   "cell_type": "code",
   "execution_count": 10,
   "metadata": {},
   "outputs": [],
   "source": [
    "from sklearn.preprocessing import StandardScaler\n"
   ]
  },
  {
   "cell_type": "code",
   "execution_count": 11,
   "metadata": {},
   "outputs": [
    {
     "data": {
      "text/plain": [
       "Text(30.5, 0.5, 'examples')"
      ]
     },
     "execution_count": 11,
     "metadata": {},
     "output_type": "execute_result"
    },
    {
     "data": {
      "image/png": "[encoded data removed]",
      "text/plain": [
       "<Figure size 432x288 with 2 Axes>"
      ]
     },
     "metadata": {},
     "output_type": "display_data"
    }
   ],
   "source": [
    "# using z-score method\n",
    "scaler = StandardScaler()\n",
    "scaler.fit(x)\n",
    "x_standard = scaler.transform(x)\n",
    "sns.set_theme()\n",
    "ax = sns.heatmap(x_standard)\n",
    "ax.set_title(\"normalized input features\")\n",
    "ax.set_xlabel(\"features\")\n",
    "ax.set_ylabel(\"examples\")\n"
   ]
  },
  {
   "cell_type": "markdown",
   "metadata": {},
   "source": [
    "---"
   ]
  },
  {
   "cell_type": "markdown",
   "metadata": {},
   "source": [
    "#### step 6. split dataset into train and test datasets\n"
   ]
  },
  {
   "cell_type": "code",
   "execution_count": 12,
   "metadata": {},
   "outputs": [],
   "source": [
    "from sklearn.model_selection import train_test_split\n"
   ]
  },
  {
   "cell_type": "code",
   "execution_count": 13,
   "metadata": {},
   "outputs": [
    {
     "data": {
      "text/plain": [
       "((196, 89), (22, 89), (196, 1), (22, 1))"
      ]
     },
     "execution_count": 13,
     "metadata": {},
     "output_type": "execute_result"
    }
   ],
   "source": [
    "test_size = 0.1\n",
    "x_train, x_test, y_train, y_test = train_test_split(\n",
    "    x,\n",
    "    y,\n",
    "    test_size=test_size,\n",
    "    random_state=28,\n",
    ")\n",
    "x_train.shape, x_test.shape, y_train.shape, y_test.shape\n"
   ]
  },
  {
   "cell_type": "markdown",
   "metadata": {},
   "source": [
    "***"
   ]
  },
  {
   "cell_type": "markdown",
   "metadata": {},
   "source": [
    "### Part 3. Model Implementation"
   ]
  },
  {
   "cell_type": "markdown",
   "metadata": {},
   "source": [
    "TODO\n",
    "tune hyperparameters"
   ]
  },
  {
   "cell_type": "markdown",
   "metadata": {},
   "source": [
    "#### step 7. implement KNN with sklearn"
   ]
  },
  {
   "cell_type": "code",
   "execution_count": 14,
   "metadata": {},
   "outputs": [],
   "source": [
    "from sklearn.neighbors import KNeighborsRegressor\n",
    "from knn.train_utils import find_best_hyperparameter, train_knn_with_kfold\n"
   ]
  },
  {
   "cell_type": "code",
   "execution_count": 15,
   "metadata": {},
   "outputs": [],
   "source": [
    "parameters = {\n",
    "    \"algorithm\": [\"auto\", \"ball_tree\", \"kd_tree\", \"brute\"],\n",
    "    \"leaf_size\": [20, 30, 40],\n",
    "    \"metric\": [\"minkowski\"],\n",
    "    \"n_jobs\": [-1],\n",
    "    \"n_neighbors\": [1, 3, 5, 7, 9, 15, 30, 45, 60, 75, 90, 120, 150, 170],\n",
    "    \"p\": [1, 2, 3],\n",
    "    \"weights\": [\"uniform\", \"distance\"],\n",
    "}\n",
    "\n",
    "regressor = KNeighborsRegressor()\n"
   ]
  },
  {
   "cell_type": "code",
   "execution_count": 16,
   "metadata": {},
   "outputs": [
    {
     "name": "stdout",
     "output_type": "stream",
     "text": [
      "Fitting 5 folds for each of 1008 candidates, totalling 5040 fits\n"
     ]
    },
    {
     "data": {
      "text/plain": [
       "{'algorithm': 'kd_tree',\n",
       " 'leaf_size': 20,\n",
       " 'metric': 'minkowski',\n",
       " 'n_jobs': -1,\n",
       " 'n_neighbors': 9,\n",
       " 'p': 2,\n",
       " 'weights': 'uniform'}"
      ]
     },
     "execution_count": 16,
     "metadata": {},
     "output_type": "execute_result"
    }
   ],
   "source": [
    "best_hyperparameter = find_best_hyperparameter(data_path, regressor, parameters)\n",
    "best_hyperparameter\n"
   ]
  },
  {
   "cell_type": "code",
   "execution_count": 17,
   "metadata": {},
   "outputs": [
    {
     "data": {
      "text/plain": [
       "[0.10220189010514835, -0.0996590053447246]"
      ]
     },
     "execution_count": 17,
     "metadata": {},
     "output_type": "execute_result"
    }
   ],
   "source": [
    "regressor = KNeighborsRegressor(**best_hyperparameter)\n",
    "regressor.fit(x_train, y_train)\n",
    "y_pred = regressor.predict(x_test)\n",
    "\n",
    "training_score = regressor.score(x_train, y_train)\n",
    "test_score = regressor.score(x_test, y_test)\n",
    "\n",
    "scores = [training_score, test_score]\n",
    "scores\n"
   ]
  },
  {
   "cell_type": "markdown",
   "metadata": {},
   "source": [
    "#### step 8. fine-tune k"
   ]
  },
  {
   "cell_type": "code",
   "execution_count": 18,
   "metadata": {},
   "outputs": [],
   "source": [
    "from sklearn.metrics import mean_squared_error\n",
    "import matplotlib.pyplot as plt\n"
   ]
  },
  {
   "cell_type": "code",
   "execution_count": 19,
   "metadata": {},
   "outputs": [
    {
     "name": "stdout",
     "output_type": "stream",
     "text": [
      "Minimum error:  211.92502207445148 at k = 77\n"
     ]
    },
    {
     "data": {
      "image/png": "[encoded data removed]",
      "text/plain": [
       "<Figure size 432x288 with 1 Axes>"
      ]
     },
     "metadata": {},
     "output_type": "display_data"
    }
   ],
   "source": [
    "error_rate = []\n",
    "k_range = 197\n",
    "range_start = 5\n",
    "for i in range(range_start, k_range):\n",
    "    regressor = KNeighborsRegressor(n_neighbors=i)\n",
    "    regressor.fit(x_train, y_train)\n",
    "    y_pred = regressor.predict(x_test)\n",
    "    error_rate.append(mean_squared_error(y_test, y_pred))\n",
    "\n",
    "plt.figure()\n",
    "plt.plot(range(range_start, k_range), error_rate, color=\"red\")\n",
    "plt.title(\"Error Rate vs. K Value\")\n",
    "plt.xlabel(\"K\")\n",
    "plt.ylabel(\"Error Rate\")\n",
    "print(\"Minimum error: \", min(error_rate), \"at k =\", error_rate.index(min(error_rate)))\n"
   ]
  },
  {
   "cell_type": "markdown",
   "metadata": {},
   "source": [
    "***"
   ]
  },
  {
   "cell_type": "markdown",
   "metadata": {},
   "source": [
    "### Part 4. Validation"
   ]
  },
  {
   "cell_type": "markdown",
   "metadata": {},
   "source": [
    "#### step 9. prediction error\n"
   ]
  },
  {
   "cell_type": "code",
   "execution_count": 20,
   "metadata": {},
   "outputs": [],
   "source": [
    "from knn.train_utils import train_knn_with_kfold\n",
    "from data_preprocess.data_utils import get_processed_data\n"
   ]
  },
  {
   "cell_type": "code",
   "execution_count": 21,
   "metadata": {},
   "outputs": [
    {
     "name": "stdout",
     "output_type": "stream",
     "text": [
      "mean_error = 21.931231960501403 M$\n"
     ]
    }
   ],
   "source": [
    "mean_error = train_knn_with_kfold(data_path=data_path, **best_hyperparameter)\n",
    "print(f\"mean_error = {mean_error} M$\")\n"
   ]
  },
  {
   "cell_type": "code",
   "execution_count": 22,
   "metadata": {},
   "outputs": [],
   "source": [
    "# TODO"
   ]
  },
  {
   "cell_type": "code",
   "execution_count": null,
   "metadata": {},
   "outputs": [],
   "source": []
  }
 ],
 "metadata": {
  "interpreter": {
   "hash": "1123ec88e6546c59a178b8c37b077b856634b4b83572dee74e066f1859b3ead4"
  },
  "kernelspec": {
   "display_name": "Python 3.9.7 64-bit ('ml': conda)",
   "language": "python",
   "name": "python3"
  },
  "language_info": {
   "codemirror_mode": {
    "name": "ipython",
    "version": 3
   },
   "file_extension": ".py",
   "mimetype": "text/x-python",
   "name": "python",
   "nbconvert_exporter": "python",
   "pygments_lexer": "ipython3",
   "version": "3.9.7"
  },
  "orig_nbformat": 4
 },
 "nbformat": 4,
 "nbformat_minor": 2
}
