{
 "cells": [
  {
   "cell_type": "code",
   "execution_count": 4,
   "metadata": {},
   "outputs": [],
   "source": [
    "# for autoreloading edited the modules and packages instead of restarting the kernel\n",
    "%reload_ext autoreload\n",
    "%autoreload 2"
   ]
  },
  {
   "cell_type": "markdown",
   "metadata": {},
   "source": [
    "## Neural Network model"
   ]
  },
  {
   "cell_type": "markdown",
   "metadata": {},
   "source": [
    "### 1. hyperparameter tuning"
   ]
  },
  {
   "cell_type": "code",
   "execution_count": 5,
   "metadata": {},
   "outputs": [],
   "source": [
    "from pathlib import Path\n",
    "import torch\n",
    "from neural_network.params_utils import param_generator"
   ]
  },
  {
   "cell_type": "code",
   "execution_count": 6,
   "metadata": {},
   "outputs": [],
   "source": [
    "# log_version = 3\n",
    "# params = {\n",
    "#     \"data_path\": Path(\"data_preprocess\") / \"cleaned_ico_dataset.csv\",\n",
    "#     \"target_feature\": \"Total amount raised (USDm)\",\n",
    "#     \"drop_feature_list\": None,\n",
    "#     \"log_path\": Path(\"neural_network\") / \"logs\" / f\"log_v{log_version}.csv\",\n",
    "#     \"epochs\": 10,\n",
    "#     \"device\": \"cuda\" if torch.cuda.is_available() else \"cpu\",\n",
    "#     \"params\": param_generator(),\n",
    "# }\n"
   ]
  },
  {
   "cell_type": "code",
   "execution_count": 7,
   "metadata": {},
   "outputs": [],
   "source": [
    "# from neural_network.params_utils import tune_hyperparameters\n"
   ]
  },
  {
   "cell_type": "code",
   "execution_count": 8,
   "metadata": {},
   "outputs": [],
   "source": [
    "# tune_hyperparameters(**params)\n"
   ]
  },
  {
   "cell_type": "code",
   "execution_count": 9,
   "metadata": {},
   "outputs": [],
   "source": [
    "from neural_network.train_utils import run"
   ]
  },
  {
   "cell_type": "code",
   "execution_count": 10,
   "metadata": {},
   "outputs": [
    {
     "name": "stdout",
     "output_type": "stream",
     "text": [
      "(train_loss**0.5, val_loss**0.5)=(24.906760331385495, 47.060411951521154)\n",
      "(train_loss**0.5, val_loss**0.5)=(22.140758010583177, 45.7312974066995)\n",
      "(train_loss**0.5, val_loss**0.5)=(22.358521941710922, 44.089169400187586)\n",
      "(train_loss**0.5, val_loss**0.5)=(22.086679495406557, 43.19040273801432)\n",
      "(train_loss**0.5, val_loss**0.5)=(18.119571056888862, 42.08606149624392)\n",
      "(train_loss**0.5, val_loss**0.5)=(18.586020829862587, 41.50324723741505)\n",
      "(train_loss**0.5, val_loss**0.5)=(16.704661028384926, 40.795723006523616)\n",
      "(train_loss**0.5, val_loss**0.5)=(16.747096479047215, 40.55469728255517)\n",
      "(train_loss**0.5, val_loss**0.5)=(15.967010343565368, 39.19787791210769)\n",
      "(train_loss**0.5, val_loss**0.5)=(16.98529538746424, 39.6031368361854)\n",
      "(train_loss**0.5, val_loss**0.5)=(17.08863968972699, 39.663075345949125)\n",
      "(train_loss**0.5, val_loss**0.5)=(17.464599989911513, 39.69460443301772)\n",
      "Epoch    12: reducing learning rate of group 0 to 5.0000e-01.\n",
      "(train_loss**0.5, val_loss**0.5)=(16.85349876234091, 39.83779520452673)\n",
      "(train_loss**0.5, val_loss**0.5)=(15.774106423873262, 39.82386912089046)\n",
      "(train_loss**0.5, val_loss**0.5)=(16.43297720646396, 40.26082716613709)\n",
      "(train_loss**0.5, val_loss**0.5)=(14.668148197138013, 41.66386839561948)\n",
      "(train_loss**0.5, val_loss**0.5)=(17.1600553256479, 41.05613327021387)\n",
      "(train_loss**0.5, val_loss**0.5)=(13.78012447129328, 40.52736765812548)\n",
      "(train_loss**0.5, val_loss**0.5)=(16.086884628655234, 40.755727166559055)\n",
      "(train_loss**0.5, val_loss**0.5)=(16.478801403345997, 41.13319607489719)\n",
      "(train_loss**0.5, val_loss**0.5)=(14.319144626409471, 41.89617876276875)\n",
      "Epoch    21: reducing learning rate of group 0 to 2.5000e-01.\n",
      "(train_loss**0.5, val_loss**0.5)=(13.443653915395316, 42.55185973140966)\n",
      "(train_loss**0.5, val_loss**0.5)=(16.920522591747336, 42.84602929750317)\n",
      "(train_loss**0.5, val_loss**0.5)=(14.104226559728277, 43.06928012661693)\n",
      "(train_loss**0.5, val_loss**0.5)=(13.835756633487515, 43.14200157392663)\n",
      "Epoch    25: reducing learning rate of group 0 to 1.2500e-01.\n",
      "(train_loss**0.5, val_loss**0.5)=(13.28812523103849, 43.01025410303701)\n",
      "(train_loss**0.5, val_loss**0.5)=(12.798632751398713, 42.826159716400994)\n",
      "(train_loss**0.5, val_loss**0.5)=(11.785485272845369, 42.75735356847623)\n",
      "(train_loss**0.5, val_loss**0.5)=(12.293055327686066, 42.701772870104584)\n",
      "(train_loss**0.5, val_loss**0.5)=(12.145161962956497, 42.48536340336075)\n",
      "(train_loss**0.5, val_loss**0.5)=(11.3216975636994, 42.27262967602752)\n",
      "(train_loss**0.5, val_loss**0.5)=(11.551621717076507, 42.24650387717012)\n",
      "(train_loss**0.5, val_loss**0.5)=(11.059430402329706, 42.0727446778382)\n",
      "(train_loss**0.5, val_loss**0.5)=(11.2307635830864, 41.91126869183722)\n",
      "(train_loss**0.5, val_loss**0.5)=(12.21509421213476, 41.987594952352445)\n",
      "(train_loss**0.5, val_loss**0.5)=(10.60369244447571, 42.47611633594078)\n",
      "(train_loss**0.5, val_loss**0.5)=(11.770569996996715, 42.98128226332946)\n",
      "(train_loss**0.5, val_loss**0.5)=(12.776425073497336, 43.01116088804742)\n",
      "(train_loss**0.5, val_loss**0.5)=(10.660794449737812, 42.966664722127895)\n",
      "Epoch    39: reducing learning rate of group 0 to 6.2500e-02.\n",
      "(train_loss**0.5, val_loss**0.5)=(12.436406993283386, 43.001080166756424)\n",
      "(train_loss**0.5, val_loss**0.5)=(11.038970925288076, 43.12574727613424)\n",
      "(train_loss**0.5, val_loss**0.5)=(10.907867923732923, 43.28634615755729)\n",
      "Epoch    42: reducing learning rate of group 0 to 3.1250e-02.\n",
      "(train_loss**0.5, val_loss**0.5)=(9.508944667339454, 43.32234482946921)\n",
      "(train_loss**0.5, val_loss**0.5)=(10.423874967690328, 43.28067181473013)\n",
      "(train_loss**0.5, val_loss**0.5)=(9.581394054626356, 43.251154360498)\n",
      "(train_loss**0.5, val_loss**0.5)=(10.807797418120305, 43.23112790480807)\n",
      "Epoch    46: reducing learning rate of group 0 to 1.5625e-02.\n",
      "(train_loss**0.5, val_loss**0.5)=(10.960407616769206, 43.24364482074577)\n",
      "(train_loss**0.5, val_loss**0.5)=(8.490120026331986, 43.23670993423875)\n",
      "(train_loss**0.5, val_loss**0.5)=(10.286553867073515, 43.19833269080677)\n",
      "(train_loss**0.5, val_loss**0.5)=(8.920617223690932, 43.149569823771856)\n",
      "(train_loss**0.5, val_loss**0.5)=(9.611094747344428, 43.10107041023242)\n",
      "Epoch    51: reducing learning rate of group 0 to 7.8125e-03.\n",
      "(train_loss**0.5, val_loss**0.5)=(8.212297350562013, 43.074670586015515)\n",
      "(train_loss**0.5, val_loss**0.5)=(10.129347068177093, 43.06080338412113)\n",
      "(train_loss**0.5, val_loss**0.5)=(9.135400566919133, 43.07016866359984)\n",
      "(train_loss**0.5, val_loss**0.5)=(10.13874336265974, 43.08883645619173)\n",
      "Epoch    55: reducing learning rate of group 0 to 3.9062e-03.\n",
      "(train_loss**0.5, val_loss**0.5)=(9.995150343817135, 43.10649795582593)\n",
      "(train_loss**0.5, val_loss**0.5)=(9.53317411418706, 43.13557671476788)\n",
      "(train_loss**0.5, val_loss**0.5)=(7.162379941882779, 43.165911300903865)\n",
      "(train_loss**0.5, val_loss**0.5)=(8.500736877813612, 43.19864352886992)\n",
      "(train_loss**0.5, val_loss**0.5)=(13.031763446307174, 43.22901151453081)\n",
      "(train_loss**0.5, val_loss**0.5)=(10.547926922368164, 43.24516772137669)\n",
      "Epoch    61: reducing learning rate of group 0 to 1.9531e-03.\n",
      "(train_loss**0.5, val_loss**0.5)=(8.77273396416731, 43.251511387519024)\n",
      "(train_loss**0.5, val_loss**0.5)=(10.217663255119515, 43.25664632367927)\n",
      "(train_loss**0.5, val_loss**0.5)=(7.950314368024389, 43.26215028706892)\n",
      "Epoch    64: reducing learning rate of group 0 to 9.7656e-04.\n",
      "(train_loss**0.5, val_loss**0.5)=(8.868167019824554, 43.26437086255632)\n",
      "(train_loss**0.5, val_loss**0.5)=(8.70214991697398, 43.266825495713945)\n",
      "(train_loss**0.5, val_loss**0.5)=(8.240317587241321, 43.26871716108099)\n",
      "Epoch    67: reducing learning rate of group 0 to 4.8828e-04.\n",
      "(train_loss**0.5, val_loss**0.5)=(10.281966349681914, 43.268663557980965)\n",
      "(train_loss**0.5, val_loss**0.5)=(8.912617652405423, 43.268495695211804)\n",
      "(train_loss**0.5, val_loss**0.5)=(8.346774349655524, 43.26875665805958)\n",
      "Epoch    70: reducing learning rate of group 0 to 2.4414e-04.\n",
      "(train_loss**0.5, val_loss**0.5)=(13.466033307531612, 43.268391309631994)\n",
      "(train_loss**0.5, val_loss**0.5)=(9.83444772214036, 43.26799210299688)\n",
      "(train_loss**0.5, val_loss**0.5)=(9.426240988063007, 43.26739399146313)\n",
      "Epoch    73: reducing learning rate of group 0 to 1.2207e-04.\n",
      "(train_loss**0.5, val_loss**0.5)=(8.860429112395524, 43.26701593556863)\n",
      "(train_loss**0.5, val_loss**0.5)=(7.6711426674798, 43.266704178036115)\n",
      "(train_loss**0.5, val_loss**0.5)=(8.668756147518605, 43.26643897076506)\n",
      "Epoch    76: reducing learning rate of group 0 to 6.1035e-05.\n",
      "(train_loss**0.5, val_loss**0.5)=(7.433088132067126, 43.26636984732628)\n",
      "(train_loss**0.5, val_loss**0.5)=(9.00692630851944, 43.26633458022314)\n",
      "(train_loss**0.5, val_loss**0.5)=(10.384229484408715, 43.26634445501492)\n",
      "Epoch    79: reducing learning rate of group 0 to 3.0518e-05.\n",
      "(train_loss**0.5, val_loss**0.5)=(7.663140384368351, 43.2663980609881)\n",
      "(train_loss**0.5, val_loss**0.5)=(8.155899917280333, 43.266431917358)\n",
      "(train_loss**0.5, val_loss**0.5)=(7.729397615202396, 43.266465773701405)\n",
      "Epoch    82: reducing learning rate of group 0 to 1.5259e-05.\n",
      "(train_loss**0.5, val_loss**0.5)=(10.335098936126894, 43.26647705914332)\n",
      "(train_loss**0.5, val_loss**0.5)=(7.192468667278653, 43.266499630018316)\n",
      "(train_loss**0.5, val_loss**0.5)=(7.726681360269728, 43.266540539699236)\n",
      "Epoch    85: reducing learning rate of group 0 to 1.0000e-05.\n",
      "(train_loss**0.5, val_loss**0.5)=(7.9114059101617205, 43.26656452121834)\n",
      "(train_loss**0.5, val_loss**0.5)=(9.808932099152345, 43.26656734257266)\n",
      "(train_loss**0.5, val_loss**0.5)=(8.545083703824737, 43.26654477173299)\n",
      "(train_loss**0.5, val_loss**0.5)=(10.110254924514608, 43.26654477173299)\n",
      "(train_loss**0.5, val_loss**0.5)=(8.209646775038403, 43.26657439595764)\n",
      "(train_loss**0.5, val_loss**0.5)=(10.146126358427475, 43.266599788134066)\n",
      "(train_loss**0.5, val_loss**0.5)=(9.923858876772861, 43.26663646569592)\n",
      "(train_loss**0.5, val_loss**0.5)=(8.816691815268904, 43.26668160726782)\n",
      "(train_loss**0.5, val_loss**0.5)=(8.746496534592504, 43.26673098080816)\n",
      "(train_loss**0.5, val_loss**0.5)=(8.137030043853244, 43.26678176496231)\n",
      "(train_loss**0.5, val_loss**0.5)=(9.35943012507895, 43.26684101306681)\n",
      "(train_loss**0.5, val_loss**0.5)=(7.954225475266398, 43.26690167175641)\n",
      "(train_loss**0.5, val_loss**0.5)=(8.756701491680774, 43.2669834903193)\n",
      "(train_loss**0.5, val_loss**0.5)=(8.472591190607174, 43.2670709513706)\n",
      "(train_loss**0.5, val_loss**0.5)=(9.000005933971568, 43.26714712698091)\n"
     ]
    }
   ],
   "source": [
    "param_dict = {\n",
    "    \"data_path\": r\"data_preprocess\\\\cleaned_ico_dataset.csv\",\n",
    "    \"epochs\": 100,\n",
    "    \"device\": \"cuda\" if torch.cuda.is_available() else \"cpu\",\n",
    "    \"batch_size\": 128,\n",
    "    \"hidden_layers\": 8,\n",
    "    \"layer_units\": 64,\n",
    "    \"learning_rate\": 1,\n",
    "    \"normalize\": True,\n",
    "    \"one_hot_encode\": False,\n",
    "    \"test_size\": 0.2,\n",
    "}\n",
    "train_losses, val_losses, model = run(\n",
    "    target_feature=\"Total amount raised (USDm)\", drop_features_list=None, **param_dict\n",
    ")\n"
   ]
  },
  {
   "cell_type": "code",
   "execution_count": 11,
   "metadata": {},
   "outputs": [],
   "source": [
    "torch.save(model.state_dict(), r'neural_network\\\\ico_model.pt')\n"
   ]
  },
  {
   "cell_type": "code",
   "execution_count": 12,
   "metadata": {},
   "outputs": [],
   "source": [
    "import pandas as pd\n",
    "from neural_network.params_utils import find_best_hyperparameter"
   ]
  },
  {
   "cell_type": "code",
   "execution_count": 13,
   "metadata": {},
   "outputs": [
    {
     "data": {
      "text/plain": [
       "(array([32, 4, 16, 0.0475500468641555, True, False, 10,\n",
       "        'data_preprocess\\\\cleaned_ico_dataset.csv', 'cuda'], dtype=object),\n",
       " (array([0], dtype=int64),))"
      ]
     },
     "execution_count": 13,
     "metadata": {},
     "output_type": "execute_result"
    }
   ],
   "source": [
    "# log_path independant\n",
    "log_path = Path(\"neural_network\") / \"logs\" / f\"log_v3.csv\"\n",
    "log_df = pd.read_csv(log_path)\n",
    "\n",
    "# log_df = pd.read_csv(params[\"log_path\"])\n",
    "best_hyperparameter, min_val_loss_idx = find_best_hyperparameter(log_df, \"val_loss\")\n",
    "best_hyperparameter[0][:-2], min_val_loss_idx\n"
   ]
  },
  {
   "cell_type": "code",
   "execution_count": 14,
   "metadata": {},
   "outputs": [],
   "source": [
    "best_params = log_df.iloc[min_val_loss_idx].to_dict(orient=\"records\")[0]\n",
    "best_params['data_path'] = 'data_preprocess\\\\cleaned_ico_dataset.csv'"
   ]
  },
  {
   "cell_type": "markdown",
   "metadata": {},
   "source": [
    "### 2. training and validating the model"
   ]
  },
  {
   "cell_type": "code",
   "execution_count": 15,
   "metadata": {},
   "outputs": [],
   "source": [
    "from neural_network.train_utils import run_with_kfold\n"
   ]
  },
  {
   "cell_type": "code",
   "execution_count": 16,
   "metadata": {},
   "outputs": [
    {
     "data": {
      "text/plain": [
       "dict_keys(['batch_size', 'hidden_layers', 'layer_units', 'learning_rate', 'normalize', 'one_hot_encode', 'epochs', 'data_path', 'device', 'val_loss', 'train_time'])"
      ]
     },
     "execution_count": 16,
     "metadata": {},
     "output_type": "execute_result"
    }
   ],
   "source": [
    "best_params.keys()"
   ]
  },
  {
   "cell_type": "code",
   "execution_count": 17,
   "metadata": {},
   "outputs": [
    {
     "data": {
      "text/plain": [
       "20.57218312741576"
      ]
     },
     "execution_count": 17,
     "metadata": {},
     "output_type": "execute_result"
    }
   ],
   "source": [
    "# best_params[\"learning_rate\"] = 1e-7\n",
    "best_params[\"epochs\"] = 100\n",
    "mean_val_loss, folds_val_losses, folds_train_losses = run_with_kfold(\n",
    "    target_feature=\"Total amount raised (USDm)\", drop_features_list=None, **best_params\n",
    ")\n",
    "mean_val_loss\n"
   ]
  },
  {
   "cell_type": "code",
   "execution_count": 18,
   "metadata": {},
   "outputs": [],
   "source": [
    "import numpy as np\n"
   ]
  },
  {
   "cell_type": "code",
   "execution_count": 19,
   "metadata": {},
   "outputs": [],
   "source": [
    "val_losses = np.concatenate([a[None] for a in folds_val_losses], axis=0)\n",
    "train_losses = np.concatenate([a[None] for a in folds_train_losses], axis=0)\n",
    "folds_mean_val_losses = val_losses.mean(axis=0)**0.5\n",
    "folds_mean_train_losses = train_losses.mean(axis=0)**0.5"
   ]
  },
  {
   "cell_type": "code",
   "execution_count": 20,
   "metadata": {},
   "outputs": [],
   "source": [
    "from matplotlib import pyplot as plt\n"
   ]
  },
  {
   "cell_type": "code",
   "execution_count": 21,
   "metadata": {},
   "outputs": [
    {
     "data": {
      "image/png": "[encoded data removed]",
      "text/plain": [
       "<Figure size 432x288 with 1 Axes>"
      ]
     },
     "metadata": {
      "needs_background": "light"
     },
     "output_type": "display_data"
    }
   ],
   "source": [
    "step = 1\n",
    "# fold = 0\n",
    "\n",
    "plt.plot(folds_mean_val_losses[::step], label=\"Validation Loss\")\n",
    "plt.plot(folds_mean_train_losses[::step], label=\"Train Loss\")\n",
    "plt.xlabel(\"Epoch\")\n",
    "plt.ylabel(\"Loss [M$]\")\n",
    "plt.legend()\n",
    "plt.show()\n"
   ]
  },
  {
   "cell_type": "code",
   "execution_count": null,
   "metadata": {},
   "outputs": [],
   "source": []
  }
 ],
 "metadata": {
  "interpreter": {
   "hash": "bfc614eaf004b96023ad33f8670ef0653b63aa7b2ec3e67983ab3e5ca4797f64"
  },
  "kernelspec": {
   "display_name": "Python 3.9.7 64-bit ('dl': conda)",
   "language": "python",
   "name": "python3"
  },
  "language_info": {
   "codemirror_mode": {
    "name": "ipython",
    "version": 3
   },
   "file_extension": ".py",
   "mimetype": "text/x-python",
   "name": "python",
   "nbconvert_exporter": "python",
   "pygments_lexer": "ipython3",
   "version": "3.9.7"
  },
  "orig_nbformat": 4
 },
 "nbformat": 4,
 "nbformat_minor": 2
}
