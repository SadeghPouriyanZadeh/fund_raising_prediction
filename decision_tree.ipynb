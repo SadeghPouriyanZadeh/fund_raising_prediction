{
 "cells": [
  {
   "cell_type": "code",
   "execution_count": 1,
   "metadata": {},
   "outputs": [],
   "source": [
    "# for autoreloading edited the modules and packages instead of restarting the kernel\n",
    "%reload_ext autoreload\n",
    "%autoreload 2"
   ]
  },
  {
   "cell_type": "markdown",
   "metadata": {},
   "source": [
    "## Decision Tree model"
   ]
  },
  {
   "cell_type": "markdown",
   "metadata": {},
   "source": [
    "### 1. data preparation"
   ]
  },
  {
   "cell_type": "code",
   "execution_count": 2,
   "metadata": {},
   "outputs": [],
   "source": [
    "from pathlib import Path\n",
    "from sklearn import tree\n"
   ]
  },
  {
   "cell_type": "code",
   "execution_count": 3,
   "metadata": {},
   "outputs": [],
   "source": [
    "data_dir = Path(\"data_preprocess\")\n",
    "data_path = data_dir / \"cleaned_ico_dataset.csv\"\n",
    "regressor = tree.DecisionTreeRegressor()\n"
   ]
  },
  {
   "cell_type": "markdown",
   "metadata": {},
   "source": [
    "### 2. hyperparameter tuning"
   ]
  },
  {
   "cell_type": "code",
   "execution_count": 4,
   "metadata": {},
   "outputs": [],
   "source": [
    "parameters = {\n",
    "    \"splitter\": [\"best\", \"random\"],\n",
    "    \"max_depth\": [1, 2, 3, 5],\n",
    "    \"min_samples_leaf\": [1, 2, 3, 4, 5],\n",
    "    \"min_weight_fraction_leaf\": [0.1, 0.15, 0.2, 0.25, 0.3, 0.35, 0.4, 0.45, 0.5],\n",
    "    \"max_features\": [\"auto\", \"log2\", \"sqrt\", None],\n",
    "    \"max_leaf_nodes\": [None, 5, 10, 15, 20, 25, 30],\n",
    "}\n"
   ]
  },
  {
   "cell_type": "code",
   "execution_count": 5,
   "metadata": {},
   "outputs": [],
   "source": [
    "from decision_tree.train_utils import find_best_hyperparameter, train_tree_with_kfold\n"
   ]
  },
  {
   "cell_type": "code",
   "execution_count": 6,
   "metadata": {},
   "outputs": [
    {
     "name": "stdout",
     "output_type": "stream",
     "text": [
      "Fitting 5 folds for each of 10080 candidates, totalling 50400 fits\n"
     ]
    },
    {
     "data": {
      "text/plain": [
       "{'max_depth': 3,\n",
       " 'max_features': 'auto',\n",
       " 'max_leaf_nodes': 15,\n",
       " 'min_samples_leaf': 1,\n",
       " 'min_weight_fraction_leaf': 0.15,\n",
       " 'splitter': 'random'}"
      ]
     },
     "execution_count": 6,
     "metadata": {},
     "output_type": "execute_result"
    }
   ],
   "source": [
    "best_hyperparameter = find_best_hyperparameter(data_path, regressor, parameters)\n",
    "best_hyperparameter\n"
   ]
  },
  {
   "cell_type": "markdown",
   "metadata": {},
   "source": [
    "### 3. training and validating the model"
   ]
  },
  {
   "cell_type": "code",
   "execution_count": 7,
   "metadata": {},
   "outputs": [
    {
     "name": "stdout",
     "output_type": "stream",
     "text": [
      "mean_error = 22.72055974736908 M$\n"
     ]
    }
   ],
   "source": [
    "# in order to change hyperparameters manually\n",
    "\n",
    "# best_hyperparameter = {\n",
    "#     \"max_depth\": 3,\n",
    "#     \"max_features\": \"auto\",\n",
    "#     \"max_leaf_nodes\": None,\n",
    "#     \"min_samples_leaf\": 1,\n",
    "#     \"min_weight_fraction_leaf\": 0.15,\n",
    "#     \"splitter\": \"best\",\n",
    "# }\n",
    "mean_error = train_tree_with_kfold(data_path=data_path, **best_hyperparameter)\n",
    "print(f\"mean_error = {mean_error} M$\")\n"
   ]
  },
  {
   "cell_type": "markdown",
   "metadata": {},
   "source": [
    "### 4. applying the model"
   ]
  },
  {
   "cell_type": "code",
   "execution_count": 8,
   "metadata": {},
   "outputs": [],
   "source": [
    "# TODO\n"
   ]
  },
  {
   "cell_type": "code",
   "execution_count": null,
   "metadata": {},
   "outputs": [],
   "source": []
  }
 ],
 "metadata": {
  "interpreter": {
   "hash": "5b4ea3861718f2d06cbab63913554d644985022a62baccaec7d7064293baa182"
  },
  "kernelspec": {
   "display_name": "Python 3.9.7 64-bit ('nn': conda)",
   "language": "python",
   "name": "python3"
  },
  "language_info": {
   "codemirror_mode": {
    "name": "ipython",
    "version": 3
   },
   "file_extension": ".py",
   "mimetype": "text/x-python",
   "name": "python",
   "nbconvert_exporter": "python",
   "pygments_lexer": "ipython3",
   "version": "3.9.7"
  },
  "orig_nbformat": 4
 },
 "nbformat": 4,
 "nbformat_minor": 2
}
