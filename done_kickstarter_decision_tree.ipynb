{
 "cells": [
  {
   "cell_type": "code",
   "execution_count": 1,
   "metadata": {},
   "outputs": [],
   "source": [
    "# for autoreloading edited the modules and packages instead of restarting the kernel\n",
    "%reload_ext autoreload\n",
    "%autoreload 2"
   ]
  },
  {
   "cell_type": "markdown",
   "metadata": {},
   "source": [
    "## Decision Tree model"
   ]
  },
  {
   "cell_type": "markdown",
   "metadata": {},
   "source": [
    "### 1. data preparation"
   ]
  },
  {
   "cell_type": "code",
   "execution_count": 2,
   "metadata": {},
   "outputs": [],
   "source": [
    "from pathlib import Path\n",
    "from sklearn import tree\n",
    "from data_preprocess.data_utils import get_processed_data\n",
    "import pandas as pd"
   ]
  },
  {
   "cell_type": "code",
   "execution_count": 3,
   "metadata": {},
   "outputs": [
    {
     "data": {
      "text/plain": [
       "WindowsPath('data_preprocess/kickstarter_2021.csv')"
      ]
     },
     "execution_count": 3,
     "metadata": {},
     "output_type": "execute_result"
    }
   ],
   "source": [
    "data_dir = Path(\"data_preprocess\")\n",
    "data_path = data_dir / \"kickstarter_2021.csv\"\n",
    "x, y = get_processed_data(data_path, \"usd_pledged\")"
   ]
  },
  {
   "cell_type": "markdown",
   "metadata": {},
   "source": [
    "### 2. hyperparameter tuning"
   ]
  },
  {
   "cell_type": "code",
   "execution_count": 4,
   "metadata": {},
   "outputs": [],
   "source": [
    "# parameters = {\n",
    "#     \"splitter\": [\"best\", \"random\"],\n",
    "#     \"max_depth\": [1, 2, 3, 5],\n",
    "#     \"min_samples_leaf\": [1, 2, 3, 4, 5],\n",
    "#     \"min_weight_fraction_leaf\": [0.1, 0.15, 0.2, 0.25, 0.3, 0.35, 0.4, 0.45, 0.5],\n",
    "#     \"max_features\": [\"auto\", \"log2\", \"sqrt\", None],\n",
    "#     \"max_leaf_nodes\": [None, 5, 10, 15, 20, 25, 30],\n",
    "# }\n"
   ]
  },
  {
   "cell_type": "code",
   "execution_count": 5,
   "metadata": {},
   "outputs": [],
   "source": [
    "from decision_tree.train_utils import (\n",
    "    find_best_hyperparameter,\n",
    "    train_tree_with_kfold,\n",
    "    train_tree,\n",
    ")\n"
   ]
  },
  {
   "cell_type": "code",
   "execution_count": 6,
   "metadata": {},
   "outputs": [],
   "source": [
    "# best_hyperparameter = find_best_hyperparameter(\n",
    "#     data_path, regressor, parameters=parameters, target_feature=\"usd_pledged\"\n",
    "# )\n",
    "# best_hyperparameter\n"
   ]
  },
  {
   "cell_type": "markdown",
   "metadata": {},
   "source": [
    "### 3. training and validating the model"
   ]
  },
  {
   "cell_type": "code",
   "execution_count": 7,
   "metadata": {},
   "outputs": [
    {
     "name": "stdout",
     "output_type": "stream",
     "text": [
      "error = 79913.98306515999 $\n"
     ]
    }
   ],
   "source": [
    "# change hyperparameters manually\n",
    "\n",
    "best_hyperparameter = {\n",
    "    \"max_depth\": 3,\n",
    "    \"max_features\": None,\n",
    "    \"max_leaf_nodes\": 15,\n",
    "    \"min_samples_leaf\": 4,\n",
    "    \"min_weight_fraction_leaf\": 0.15,\n",
    "    \"splitter\": \"random\",\n",
    "}\n",
    "error, y_pred = train_tree(x, y, ** best_hyperparameter)\n",
    "print(f\"error = {error} $\")\n"
   ]
  },
  {
   "cell_type": "code",
   "execution_count": 8,
   "metadata": {},
   "outputs": [],
   "source": [
    "import pandas as pd"
   ]
  },
  {
   "cell_type": "code",
   "execution_count": 9,
   "metadata": {},
   "outputs": [],
   "source": [
    "pd.DataFrame({\"y_true\": y.squeeze(), \"y_pred\": y_pred}).to_csv(\"results_decision_tree.csv\", index=False)"
   ]
  },
  {
   "cell_type": "code",
   "execution_count": null,
   "metadata": {},
   "outputs": [],
   "source": []
  }
 ],
 "metadata": {
  "interpreter": {
   "hash": "5b4ea3861718f2d06cbab63913554d644985022a62baccaec7d7064293baa182"
  },
  "kernelspec": {
   "display_name": "Python 3.9.7 64-bit ('nn': conda)",
   "language": "python",
   "name": "python3"
  },
  "language_info": {
   "codemirror_mode": {
    "name": "ipython",
    "version": 3
   },
   "file_extension": ".py",
   "mimetype": "text/x-python",
   "name": "python",
   "nbconvert_exporter": "python",
   "pygments_lexer": "ipython3",
   "version": "3.9.7"
  },
  "orig_nbformat": 4
 },
 "nbformat": 4,
 "nbformat_minor": 2
}
