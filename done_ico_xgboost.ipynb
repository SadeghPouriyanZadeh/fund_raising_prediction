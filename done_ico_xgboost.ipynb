{
 "cells": [
  {
   "cell_type": "code",
   "execution_count": 1,
   "metadata": {},
   "outputs": [],
   "source": [
    "# for autoreloading edited the modules and packages instead of restarting the kernel\n",
    "%reload_ext autoreload\n",
    "%autoreload 2"
   ]
  },
  {
   "cell_type": "markdown",
   "metadata": {},
   "source": [
    "# Gradient Boosted Trees (xgboost)"
   ]
  },
  {
   "cell_type": "code",
   "execution_count": 2,
   "metadata": {},
   "outputs": [],
   "source": [
    "from pathlib import Path\n",
    "from data_preprocess.data_utils import get_processed_data\n",
    "import pandas as pd"
   ]
  },
  {
   "cell_type": "code",
   "execution_count": 3,
   "metadata": {},
   "outputs": [
    {
     "data": {
      "text/plain": [
       "WindowsPath('data_preprocess/cleaned_ico_dataset.csv')"
      ]
     },
     "execution_count": 3,
     "metadata": {},
     "output_type": "execute_result"
    }
   ],
   "source": [
    "data_dir = Path(\"data_preprocess\")\n",
    "data_path = data_dir / \"cleaned_ico_dataset.csv\"\n",
    "x, y = get_processed_data(data_path, target_feature=\"Total amount raised (USDm)\")\n",
    "data_path"
   ]
  },
  {
   "cell_type": "code",
   "execution_count": 4,
   "metadata": {},
   "outputs": [],
   "source": [
    "# from boosted_tree.train_utils import find_best_params"
   ]
  },
  {
   "cell_type": "code",
   "execution_count": 5,
   "metadata": {},
   "outputs": [],
   "source": [
    "# best_params, min_error = find_best_params(x, y)"
   ]
  },
  {
   "cell_type": "code",
   "execution_count": 6,
   "metadata": {},
   "outputs": [],
   "source": [
    "best_params = {\n",
    "    \"n_estimators\": 100,\n",
    "    \"learning_rate\": 0.03112441194313708,\n",
    "    \"min_split_loss\": 4,\n",
    "    \"max_depth\": 8,\n",
    "    \"min_child_weight\": 6.527701119680006,\n",
    "    \"subsample\": 0.9906205086433723,\n",
    "    \"colsample_bytree\": 0.972431066043958,\n",
    "    \"colsample_bylevel\": 0.5947920328775593,\n",
    "    \"colsample_bynode\": 0.907870790038567,\n",
    "    \"reg_lambda\": 5.775495296973363,\n",
    "    \"reg_alpha\": 0.3358314588907596,\n",
    "    # \"tree_method\": \"gpu_hist\",\n",
    "    \"random_state\": 1000,\n",
    "}"
   ]
  },
  {
   "cell_type": "code",
   "execution_count": 7,
   "metadata": {},
   "outputs": [],
   "source": [
    "from boosted_tree.train_utils import train_with_kfold"
   ]
  },
  {
   "cell_type": "code",
   "execution_count": 8,
   "metadata": {},
   "outputs": [
    {
     "name": "stdout",
     "output_type": "stream",
     "text": [
      "mean_error = 20.294676482187977 M$\n"
     ]
    },
    {
     "data": {
      "text/plain": [
       "[15.505205960727183,\n",
       " 30.96650220235471,\n",
       " 17.52260474750103,\n",
       " 17.943015169883047,\n",
       " 19.536054330473913]"
      ]
     },
     "execution_count": 8,
     "metadata": {},
     "output_type": "execute_result"
    }
   ],
   "source": [
    "mean_error, kfold_errors = train_with_kfold(x, y, best_params,n_splits=5)\n",
    "print(f'mean_error = {mean_error} M$')\n",
    "kfold_errors\n"
   ]
  },
  {
   "cell_type": "code",
   "execution_count": null,
   "metadata": {},
   "outputs": [],
   "source": []
  }
 ],
 "metadata": {
  "interpreter": {
   "hash": "1123ec88e6546c59a178b8c37b077b856634b4b83572dee74e066f1859b3ead4"
  },
  "kernelspec": {
   "display_name": "Python 3.9.7 64-bit ('ml': conda)",
   "language": "python",
   "name": "python3"
  },
  "language_info": {
   "codemirror_mode": {
    "name": "ipython",
    "version": 3
   },
   "file_extension": ".py",
   "mimetype": "text/x-python",
   "name": "python",
   "nbconvert_exporter": "python",
   "pygments_lexer": "ipython3",
   "version": "3.9.7"
  },
  "orig_nbformat": 4
 },
 "nbformat": 4,
 "nbformat_minor": 2
}
