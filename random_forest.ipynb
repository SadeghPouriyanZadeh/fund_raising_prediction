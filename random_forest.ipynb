{
 "cells": [
  {
   "cell_type": "code",
   "execution_count": 1,
   "metadata": {},
   "outputs": [],
   "source": [
    "%reload_ext autoreload\n",
    "%autoreload 2"
   ]
  },
  {
   "cell_type": "markdown",
   "metadata": {},
   "source": [
    "## random forest"
   ]
  },
  {
   "cell_type": "markdown",
   "metadata": {},
   "source": [
    "### 1. data preparation"
   ]
  },
  {
   "cell_type": "code",
   "execution_count": 2,
   "metadata": {},
   "outputs": [],
   "source": [
    "from pathlib import Path\n",
    "from random_forest.data_utils import get_processed_data\n"
   ]
  },
  {
   "cell_type": "code",
   "execution_count": 3,
   "metadata": {},
   "outputs": [],
   "source": [
    "data_path = Path(\"data_preprocess\") / \"cleaned_ico_dataset.csv\"\n",
    "x, y = get_processed_data(data_path, normalize=True, one_hot_encoder=False)\n"
   ]
  },
  {
   "cell_type": "markdown",
   "metadata": {},
   "source": [
    "### 2. hyperparameter tuning"
   ]
  },
  {
   "cell_type": "code",
   "execution_count": 4,
   "metadata": {},
   "outputs": [],
   "source": [
    "# params = {\n",
    "#     \"bootstrap\": [True, False],\n",
    "#     \"max_depth\": [10, 100, None],\n",
    "#     \"max_features\": [\"auto\", \"sqrt\"],\n",
    "#     \"min_samples_leaf\": [1, 2],\n",
    "#     \"min_samples_split\": [1, 10],\n",
    "#     \"n_estimators\": [100, 1000],\n",
    "# }\n",
    "# regressor = RandomForestRegressor()\n",
    "# best_params = find_best_hyperparameter(\n",
    "#     data_path,\n",
    "#     regressor,\n",
    "#     params,\n",
    "#     scoring=\"neg_mean_squared_error\",\n",
    "# )\n"
   ]
  },
  {
   "cell_type": "code",
   "execution_count": 5,
   "metadata": {},
   "outputs": [],
   "source": [
    "# params = {\n",
    "#     \"bootstrap\": [True],\n",
    "#     \"max_depth\": [10],\n",
    "#     \"max_features\": [\"auto\"],\n",
    "#     \"min_samples_leaf\": [2, 5, 10],\n",
    "#     \"min_samples_split\": [10, 25, 50],\n",
    "#     \"n_estimators\": [100],\n",
    "# }\n",
    "# regressor = RandomForestRegressor()\n",
    "# best_params = find_best_hyperparameter(\n",
    "#     data_path,\n",
    "#     regressor,\n",
    "#     params,\n",
    "#     scoring=\"neg_mean_squared_error\",\n",
    "# )\n"
   ]
  },
  {
   "cell_type": "code",
   "execution_count": 6,
   "metadata": {},
   "outputs": [],
   "source": [
    "# best_params = {\n",
    "#     \"bootstrap\": True,\n",
    "#     \"max_depth\": 10,\n",
    "#     \"max_features\": \"auto\",\n",
    "#     \"min_samples_leaf\": 5,\n",
    "#     \"min_samples_split\": 10,\n",
    "#     \"n_estimators\": 100,\n",
    "#     \"random_state\": 42,\n",
    "# }\n"
   ]
  },
  {
   "cell_type": "code",
   "execution_count": 7,
   "metadata": {},
   "outputs": [],
   "source": [
    "from random_forest.train_utils import find_best_hyperparameter, train_forrest_with_kfold\n",
    "from sklearn.ensemble import RandomForestRegressor\n"
   ]
  },
  {
   "cell_type": "code",
   "execution_count": 8,
   "metadata": {},
   "outputs": [
    {
     "name": "stdout",
     "output_type": "stream",
     "text": [
      "Fitting 5 folds for each of 9 candidates, totalling 45 fits\n"
     ]
    },
    {
     "name": "stderr",
     "output_type": "stream",
     "text": [
      "C:\\Users\\Sadegh\\miniforge3\\envs\\ml\\lib\\site-packages\\sklearn\\model_selection\\_validation.py:681: DataConversionWarning: A column-vector y was passed when a 1d array was expected. Please change the shape of y to (n_samples,), for example using ravel().\n",
      "  estimator.fit(X_train, y_train, **fit_params)\n",
      "C:\\Users\\Sadegh\\miniforge3\\envs\\ml\\lib\\site-packages\\sklearn\\model_selection\\_validation.py:681: DataConversionWarning: A column-vector y was passed when a 1d array was expected. Please change the shape of y to (n_samples,), for example using ravel().\n",
      "  estimator.fit(X_train, y_train, **fit_params)\n",
      "C:\\Users\\Sadegh\\miniforge3\\envs\\ml\\lib\\site-packages\\sklearn\\model_selection\\_validation.py:681: DataConversionWarning: A column-vector y was passed when a 1d array was expected. Please change the shape of y to (n_samples,), for example using ravel().\n",
      "  estimator.fit(X_train, y_train, **fit_params)\n",
      "C:\\Users\\Sadegh\\miniforge3\\envs\\ml\\lib\\site-packages\\sklearn\\model_selection\\_validation.py:681: DataConversionWarning: A column-vector y was passed when a 1d array was expected. Please change the shape of y to (n_samples,), for example using ravel().\n",
      "  estimator.fit(X_train, y_train, **fit_params)\n",
      "C:\\Users\\Sadegh\\miniforge3\\envs\\ml\\lib\\site-packages\\sklearn\\model_selection\\_validation.py:681: DataConversionWarning: A column-vector y was passed when a 1d array was expected. Please change the shape of y to (n_samples,), for example using ravel().\n",
      "  estimator.fit(X_train, y_train, **fit_params)\n",
      "C:\\Users\\Sadegh\\miniforge3\\envs\\ml\\lib\\site-packages\\sklearn\\model_selection\\_validation.py:681: DataConversionWarning: A column-vector y was passed when a 1d array was expected. Please change the shape of y to (n_samples,), for example using ravel().\n",
      "  estimator.fit(X_train, y_train, **fit_params)\n",
      "C:\\Users\\Sadegh\\miniforge3\\envs\\ml\\lib\\site-packages\\sklearn\\model_selection\\_validation.py:681: DataConversionWarning: A column-vector y was passed when a 1d array was expected. Please change the shape of y to (n_samples,), for example using ravel().\n",
      "  estimator.fit(X_train, y_train, **fit_params)\n",
      "C:\\Users\\Sadegh\\miniforge3\\envs\\ml\\lib\\site-packages\\sklearn\\model_selection\\_validation.py:681: DataConversionWarning: A column-vector y was passed when a 1d array was expected. Please change the shape of y to (n_samples,), for example using ravel().\n",
      "  estimator.fit(X_train, y_train, **fit_params)\n",
      "C:\\Users\\Sadegh\\miniforge3\\envs\\ml\\lib\\site-packages\\sklearn\\model_selection\\_validation.py:681: DataConversionWarning: A column-vector y was passed when a 1d array was expected. Please change the shape of y to (n_samples,), for example using ravel().\n",
      "  estimator.fit(X_train, y_train, **fit_params)\n",
      "C:\\Users\\Sadegh\\miniforge3\\envs\\ml\\lib\\site-packages\\sklearn\\model_selection\\_validation.py:681: DataConversionWarning: A column-vector y was passed when a 1d array was expected. Please change the shape of y to (n_samples,), for example using ravel().\n",
      "  estimator.fit(X_train, y_train, **fit_params)\n",
      "C:\\Users\\Sadegh\\miniforge3\\envs\\ml\\lib\\site-packages\\sklearn\\model_selection\\_validation.py:681: DataConversionWarning: A column-vector y was passed when a 1d array was expected. Please change the shape of y to (n_samples,), for example using ravel().\n",
      "  estimator.fit(X_train, y_train, **fit_params)\n",
      "C:\\Users\\Sadegh\\miniforge3\\envs\\ml\\lib\\site-packages\\sklearn\\model_selection\\_validation.py:681: DataConversionWarning: A column-vector y was passed when a 1d array was expected. Please change the shape of y to (n_samples,), for example using ravel().\n",
      "  estimator.fit(X_train, y_train, **fit_params)\n",
      "C:\\Users\\Sadegh\\miniforge3\\envs\\ml\\lib\\site-packages\\sklearn\\model_selection\\_validation.py:681: DataConversionWarning: A column-vector y was passed when a 1d array was expected. Please change the shape of y to (n_samples,), for example using ravel().\n",
      "  estimator.fit(X_train, y_train, **fit_params)\n",
      "C:\\Users\\Sadegh\\miniforge3\\envs\\ml\\lib\\site-packages\\sklearn\\model_selection\\_validation.py:681: DataConversionWarning: A column-vector y was passed when a 1d array was expected. Please change the shape of y to (n_samples,), for example using ravel().\n",
      "  estimator.fit(X_train, y_train, **fit_params)\n",
      "C:\\Users\\Sadegh\\miniforge3\\envs\\ml\\lib\\site-packages\\sklearn\\model_selection\\_validation.py:681: DataConversionWarning: A column-vector y was passed when a 1d array was expected. Please change the shape of y to (n_samples,), for example using ravel().\n",
      "  estimator.fit(X_train, y_train, **fit_params)\n",
      "C:\\Users\\Sadegh\\miniforge3\\envs\\ml\\lib\\site-packages\\sklearn\\model_selection\\_validation.py:681: DataConversionWarning: A column-vector y was passed when a 1d array was expected. Please change the shape of y to (n_samples,), for example using ravel().\n",
      "  estimator.fit(X_train, y_train, **fit_params)\n",
      "C:\\Users\\Sadegh\\miniforge3\\envs\\ml\\lib\\site-packages\\sklearn\\model_selection\\_validation.py:681: DataConversionWarning: A column-vector y was passed when a 1d array was expected. Please change the shape of y to (n_samples,), for example using ravel().\n",
      "  estimator.fit(X_train, y_train, **fit_params)\n",
      "C:\\Users\\Sadegh\\miniforge3\\envs\\ml\\lib\\site-packages\\sklearn\\model_selection\\_validation.py:681: DataConversionWarning: A column-vector y was passed when a 1d array was expected. Please change the shape of y to (n_samples,), for example using ravel().\n",
      "  estimator.fit(X_train, y_train, **fit_params)\n",
      "C:\\Users\\Sadegh\\miniforge3\\envs\\ml\\lib\\site-packages\\sklearn\\model_selection\\_validation.py:681: DataConversionWarning: A column-vector y was passed when a 1d array was expected. Please change the shape of y to (n_samples,), for example using ravel().\n",
      "  estimator.fit(X_train, y_train, **fit_params)\n",
      "C:\\Users\\Sadegh\\miniforge3\\envs\\ml\\lib\\site-packages\\sklearn\\model_selection\\_validation.py:681: DataConversionWarning: A column-vector y was passed when a 1d array was expected. Please change the shape of y to (n_samples,), for example using ravel().\n",
      "  estimator.fit(X_train, y_train, **fit_params)\n",
      "C:\\Users\\Sadegh\\miniforge3\\envs\\ml\\lib\\site-packages\\sklearn\\model_selection\\_validation.py:681: DataConversionWarning: A column-vector y was passed when a 1d array was expected. Please change the shape of y to (n_samples,), for example using ravel().\n",
      "  estimator.fit(X_train, y_train, **fit_params)\n",
      "C:\\Users\\Sadegh\\miniforge3\\envs\\ml\\lib\\site-packages\\sklearn\\model_selection\\_validation.py:681: DataConversionWarning: A column-vector y was passed when a 1d array was expected. Please change the shape of y to (n_samples,), for example using ravel().\n",
      "  estimator.fit(X_train, y_train, **fit_params)\n",
      "C:\\Users\\Sadegh\\miniforge3\\envs\\ml\\lib\\site-packages\\sklearn\\model_selection\\_validation.py:681: DataConversionWarning: A column-vector y was passed when a 1d array was expected. Please change the shape of y to (n_samples,), for example using ravel().\n",
      "  estimator.fit(X_train, y_train, **fit_params)\n",
      "C:\\Users\\Sadegh\\miniforge3\\envs\\ml\\lib\\site-packages\\sklearn\\model_selection\\_validation.py:681: DataConversionWarning: A column-vector y was passed when a 1d array was expected. Please change the shape of y to (n_samples,), for example using ravel().\n",
      "  estimator.fit(X_train, y_train, **fit_params)\n",
      "C:\\Users\\Sadegh\\miniforge3\\envs\\ml\\lib\\site-packages\\sklearn\\model_selection\\_validation.py:681: DataConversionWarning: A column-vector y was passed when a 1d array was expected. Please change the shape of y to (n_samples,), for example using ravel().\n",
      "  estimator.fit(X_train, y_train, **fit_params)\n",
      "C:\\Users\\Sadegh\\miniforge3\\envs\\ml\\lib\\site-packages\\sklearn\\model_selection\\_validation.py:681: DataConversionWarning: A column-vector y was passed when a 1d array was expected. Please change the shape of y to (n_samples,), for example using ravel().\n",
      "  estimator.fit(X_train, y_train, **fit_params)\n",
      "C:\\Users\\Sadegh\\miniforge3\\envs\\ml\\lib\\site-packages\\sklearn\\model_selection\\_validation.py:681: DataConversionWarning: A column-vector y was passed when a 1d array was expected. Please change the shape of y to (n_samples,), for example using ravel().\n",
      "  estimator.fit(X_train, y_train, **fit_params)\n",
      "C:\\Users\\Sadegh\\miniforge3\\envs\\ml\\lib\\site-packages\\sklearn\\model_selection\\_validation.py:681: DataConversionWarning: A column-vector y was passed when a 1d array was expected. Please change the shape of y to (n_samples,), for example using ravel().\n",
      "  estimator.fit(X_train, y_train, **fit_params)\n",
      "C:\\Users\\Sadegh\\miniforge3\\envs\\ml\\lib\\site-packages\\sklearn\\model_selection\\_validation.py:681: DataConversionWarning: A column-vector y was passed when a 1d array was expected. Please change the shape of y to (n_samples,), for example using ravel().\n",
      "  estimator.fit(X_train, y_train, **fit_params)\n",
      "C:\\Users\\Sadegh\\miniforge3\\envs\\ml\\lib\\site-packages\\sklearn\\model_selection\\_validation.py:681: DataConversionWarning: A column-vector y was passed when a 1d array was expected. Please change the shape of y to (n_samples,), for example using ravel().\n",
      "  estimator.fit(X_train, y_train, **fit_params)\n",
      "C:\\Users\\Sadegh\\miniforge3\\envs\\ml\\lib\\site-packages\\sklearn\\model_selection\\_validation.py:681: DataConversionWarning: A column-vector y was passed when a 1d array was expected. Please change the shape of y to (n_samples,), for example using ravel().\n",
      "  estimator.fit(X_train, y_train, **fit_params)\n",
      "C:\\Users\\Sadegh\\miniforge3\\envs\\ml\\lib\\site-packages\\sklearn\\model_selection\\_validation.py:681: DataConversionWarning: A column-vector y was passed when a 1d array was expected. Please change the shape of y to (n_samples,), for example using ravel().\n",
      "  estimator.fit(X_train, y_train, **fit_params)\n",
      "C:\\Users\\Sadegh\\miniforge3\\envs\\ml\\lib\\site-packages\\sklearn\\model_selection\\_validation.py:681: DataConversionWarning: A column-vector y was passed when a 1d array was expected. Please change the shape of y to (n_samples,), for example using ravel().\n",
      "  estimator.fit(X_train, y_train, **fit_params)\n",
      "C:\\Users\\Sadegh\\miniforge3\\envs\\ml\\lib\\site-packages\\sklearn\\model_selection\\_validation.py:681: DataConversionWarning: A column-vector y was passed when a 1d array was expected. Please change the shape of y to (n_samples,), for example using ravel().\n",
      "  estimator.fit(X_train, y_train, **fit_params)\n",
      "C:\\Users\\Sadegh\\miniforge3\\envs\\ml\\lib\\site-packages\\sklearn\\model_selection\\_validation.py:681: DataConversionWarning: A column-vector y was passed when a 1d array was expected. Please change the shape of y to (n_samples,), for example using ravel().\n",
      "  estimator.fit(X_train, y_train, **fit_params)\n",
      "C:\\Users\\Sadegh\\miniforge3\\envs\\ml\\lib\\site-packages\\sklearn\\model_selection\\_validation.py:681: DataConversionWarning: A column-vector y was passed when a 1d array was expected. Please change the shape of y to (n_samples,), for example using ravel().\n",
      "  estimator.fit(X_train, y_train, **fit_params)\n",
      "C:\\Users\\Sadegh\\miniforge3\\envs\\ml\\lib\\site-packages\\sklearn\\model_selection\\_validation.py:681: DataConversionWarning: A column-vector y was passed when a 1d array was expected. Please change the shape of y to (n_samples,), for example using ravel().\n",
      "  estimator.fit(X_train, y_train, **fit_params)\n",
      "C:\\Users\\Sadegh\\miniforge3\\envs\\ml\\lib\\site-packages\\sklearn\\model_selection\\_validation.py:681: DataConversionWarning: A column-vector y was passed when a 1d array was expected. Please change the shape of y to (n_samples,), for example using ravel().\n",
      "  estimator.fit(X_train, y_train, **fit_params)\n",
      "C:\\Users\\Sadegh\\miniforge3\\envs\\ml\\lib\\site-packages\\sklearn\\model_selection\\_validation.py:681: DataConversionWarning: A column-vector y was passed when a 1d array was expected. Please change the shape of y to (n_samples,), for example using ravel().\n",
      "  estimator.fit(X_train, y_train, **fit_params)\n",
      "C:\\Users\\Sadegh\\miniforge3\\envs\\ml\\lib\\site-packages\\sklearn\\model_selection\\_validation.py:681: DataConversionWarning: A column-vector y was passed when a 1d array was expected. Please change the shape of y to (n_samples,), for example using ravel().\n",
      "  estimator.fit(X_train, y_train, **fit_params)\n",
      "C:\\Users\\Sadegh\\miniforge3\\envs\\ml\\lib\\site-packages\\sklearn\\model_selection\\_validation.py:681: DataConversionWarning: A column-vector y was passed when a 1d array was expected. Please change the shape of y to (n_samples,), for example using ravel().\n",
      "  estimator.fit(X_train, y_train, **fit_params)\n",
      "C:\\Users\\Sadegh\\miniforge3\\envs\\ml\\lib\\site-packages\\sklearn\\model_selection\\_validation.py:681: DataConversionWarning: A column-vector y was passed when a 1d array was expected. Please change the shape of y to (n_samples,), for example using ravel().\n",
      "  estimator.fit(X_train, y_train, **fit_params)\n",
      "C:\\Users\\Sadegh\\miniforge3\\envs\\ml\\lib\\site-packages\\sklearn\\model_selection\\_validation.py:681: DataConversionWarning: A column-vector y was passed when a 1d array was expected. Please change the shape of y to (n_samples,), for example using ravel().\n",
      "  estimator.fit(X_train, y_train, **fit_params)\n",
      "C:\\Users\\Sadegh\\miniforge3\\envs\\ml\\lib\\site-packages\\sklearn\\model_selection\\_validation.py:681: DataConversionWarning: A column-vector y was passed when a 1d array was expected. Please change the shape of y to (n_samples,), for example using ravel().\n",
      "  estimator.fit(X_train, y_train, **fit_params)\n",
      "C:\\Users\\Sadegh\\miniforge3\\envs\\ml\\lib\\site-packages\\sklearn\\model_selection\\_validation.py:681: DataConversionWarning: A column-vector y was passed when a 1d array was expected. Please change the shape of y to (n_samples,), for example using ravel().\n",
      "  estimator.fit(X_train, y_train, **fit_params)\n",
      "C:\\Users\\Sadegh\\miniforge3\\envs\\ml\\lib\\site-packages\\sklearn\\model_selection\\_search.py:926: DataConversionWarning: A column-vector y was passed when a 1d array was expected. Please change the shape of y to (n_samples,), for example using ravel().\n",
      "  self.best_estimator_.fit(X, y, **fit_params)\n"
     ]
    },
    {
     "data": {
      "text/plain": [
       "{'bootstrap': True,\n",
       " 'max_depth': 10,\n",
       " 'max_features': 'auto',\n",
       " 'min_samples_leaf': 5,\n",
       " 'min_samples_split': 10,\n",
       " 'n_estimators': 100}"
      ]
     },
     "execution_count": 8,
     "metadata": {},
     "output_type": "execute_result"
    }
   ],
   "source": [
    "params = {\n",
    "    \"bootstrap\": [True, False],\n",
    "    \"max_depth\": [10, 100, None],\n",
    "    \"max_features\": [\"auto\", \"sqrt\"],\n",
    "    \"min_samples_leaf\": [1, 2],\n",
    "    \"min_samples_split\": [1, 10],\n",
    "    \"n_estimators\": [100, 1000],\n",
    "    \"bootstrap\": [True],\n",
    "    \"max_depth\": [10],\n",
    "    \"max_features\": [\"auto\"],\n",
    "    \"min_samples_leaf\": [2, 5, 10],\n",
    "    \"min_samples_split\": [10, 25, 50],\n",
    "    \"n_estimators\": [100],\n",
    "}\n",
    "regressor = RandomForestRegressor()\n",
    "best_params = find_best_hyperparameter(\n",
    "    data_path,\n",
    "    regressor,\n",
    "    params,\n",
    "    scoring=\"neg_mean_squared_error\",\n",
    ")\n",
    "best_params\n"
   ]
  },
  {
   "cell_type": "markdown",
   "metadata": {},
   "source": [
    "### 3. training and validating the model"
   ]
  },
  {
   "cell_type": "code",
   "execution_count": 9,
   "metadata": {},
   "outputs": [
    {
     "name": "stderr",
     "output_type": "stream",
     "text": [
      "c:\\Users\\Sadegh\\Desktop\\open\\fund_raising_prediction\\random_forest\\train_utils.py:42: DataConversionWarning: A column-vector y was passed when a 1d array was expected. Please change the shape of y to (n_samples,), for example using ravel().\n",
      "  regressor = regressor.fit(x_train, y_train)\n",
      "c:\\Users\\Sadegh\\Desktop\\open\\fund_raising_prediction\\random_forest\\train_utils.py:42: DataConversionWarning: A column-vector y was passed when a 1d array was expected. Please change the shape of y to (n_samples,), for example using ravel().\n",
      "  regressor = regressor.fit(x_train, y_train)\n",
      "c:\\Users\\Sadegh\\Desktop\\open\\fund_raising_prediction\\random_forest\\train_utils.py:42: DataConversionWarning: A column-vector y was passed when a 1d array was expected. Please change the shape of y to (n_samples,), for example using ravel().\n",
      "  regressor = regressor.fit(x_train, y_train)\n",
      "c:\\Users\\Sadegh\\Desktop\\open\\fund_raising_prediction\\random_forest\\train_utils.py:42: DataConversionWarning: A column-vector y was passed when a 1d array was expected. Please change the shape of y to (n_samples,), for example using ravel().\n",
      "  regressor = regressor.fit(x_train, y_train)\n",
      "c:\\Users\\Sadegh\\Desktop\\open\\fund_raising_prediction\\random_forest\\train_utils.py:42: DataConversionWarning: A column-vector y was passed when a 1d array was expected. Please change the shape of y to (n_samples,), for example using ravel().\n",
      "  regressor = regressor.fit(x_train, y_train)\n"
     ]
    },
    {
     "name": "stdout",
     "output_type": "stream",
     "text": [
      "mean_error = 20.207613491795605 M$\n"
     ]
    }
   ],
   "source": [
    "mean_error = train_forrest_with_kfold(\n",
    "    data_path, kflod_n_splits=5, kfold_shuffle=True, **best_params\n",
    ")\n",
    "print(f\"mean_error = {mean_error} M$\")\n"
   ]
  },
  {
   "cell_type": "markdown",
   "metadata": {},
   "source": [
    "### 4. applying the model"
   ]
  },
  {
   "cell_type": "code",
   "execution_count": 10,
   "metadata": {},
   "outputs": [],
   "source": [
    "# TODO add a feature to predict with new data on the model\n"
   ]
  },
  {
   "cell_type": "code",
   "execution_count": null,
   "metadata": {},
   "outputs": [],
   "source": []
  }
 ],
 "metadata": {
  "interpreter": {
   "hash": "80087e092bc02f3d06e6e9041e469d3ac4c6d42735329ec50604bff3be951e3e"
  },
  "kernelspec": {
   "display_name": "Python 3.9.7 64-bit ('myenv': conda)",
   "language": "python",
   "name": "python3"
  },
  "language_info": {
   "codemirror_mode": {
    "name": "ipython",
    "version": 3
   },
   "file_extension": ".py",
   "mimetype": "text/x-python",
   "name": "python",
   "nbconvert_exporter": "python",
   "pygments_lexer": "ipython3",
   "version": "3.9.7"
  },
  "orig_nbformat": 4
 },
 "nbformat": 4,
 "nbformat_minor": 2
}
