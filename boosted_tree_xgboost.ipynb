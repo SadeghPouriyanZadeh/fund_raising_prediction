{
 "cells": [
  {
   "cell_type": "code",
   "execution_count": 1,
   "metadata": {},
   "outputs": [],
   "source": [
    "# for autoreloading edited the modules and packages instead of restarting the kernel\n",
    "%reload_ext autoreload\n",
    "%autoreload 2"
   ]
  },
  {
   "cell_type": "markdown",
   "metadata": {},
   "source": [
    "# Boosted Trees (xgboost)"
   ]
  },
  {
   "cell_type": "code",
   "execution_count": 2,
   "metadata": {},
   "outputs": [],
   "source": [
    "from pathlib import Path\n",
    "from data_preprocess.data_utils import get_processed_data"
   ]
  },
  {
   "cell_type": "code",
   "execution_count": 3,
   "metadata": {},
   "outputs": [],
   "source": [
    "data_dir = Path(\"data_preprocess\")\n",
    "data_path = data_dir / \"cleaned_ico_dataset.csv\"\n",
    "x, y = get_processed_data(data_path)"
   ]
  },
  {
   "cell_type": "code",
   "execution_count": 4,
   "metadata": {},
   "outputs": [],
   "source": [
    "from boosted_tree.train_utils import find_best_params"
   ]
  },
  {
   "cell_type": "code",
   "execution_count": 5,
   "metadata": {},
   "outputs": [
    {
     "data": {
      "text/plain": [
       "'this cell is changed to comment to prevent the process of finding best parameters\\nbecause it takes a lot of time.\\nin the cell below, the best parameters taken from the process is written'"
      ]
     },
     "execution_count": 5,
     "metadata": {},
     "output_type": "execute_result"
    }
   ],
   "source": [
    "'''this cell is changed to comment to prevent the process of finding best parameters\n",
    "because it takes a lot of time.\n",
    "in the cell below, the best parameters taken from the process is written'''\n",
    "# best_params, min_error = find_best_params(x, y)"
   ]
  },
  {
   "cell_type": "code",
   "execution_count": 6,
   "metadata": {},
   "outputs": [],
   "source": [
    "best_params = {\n",
    "    \"n_estimators\": 100,\n",
    "    \"learning_rate\": 0.03112441194313708,\n",
    "    \"min_split_loss\": 4,\n",
    "    \"max_depth\": 8,\n",
    "    \"min_child_weight\": 6.527701119680006,\n",
    "    \"subsample\": 0.9906205086433723,\n",
    "    \"colsample_bytree\": 0.972431066043958,\n",
    "    \"colsample_bylevel\": 0.5947920328775593,\n",
    "    \"colsample_bynode\": 0.907870790038567,\n",
    "    \"reg_lambda\": 5.775495296973363,\n",
    "    \"reg_alpha\": 0.3358314588907596,\n",
    "    # \"tree_method\": \"gpu_hist\",\n",
    "    \"random_state\": 1000,\n",
    "}"
   ]
  },
  {
   "cell_type": "code",
   "execution_count": 7,
   "metadata": {},
   "outputs": [],
   "source": [
    "from boosted_tree.train_utils import train_with_kfold"
   ]
  },
  {
   "cell_type": "code",
   "execution_count": 8,
   "metadata": {},
   "outputs": [
    {
     "name": "stdout",
     "output_type": "stream",
     "text": [
      "mean_error = 20.151776432984736 M$\n"
     ]
    }
   ],
   "source": [
    "mean_error = train_with_kfold(x, y, best_params)\n",
    "print(f'mean_error = {mean_error} M$')\n"
   ]
  },
  {
   "cell_type": "markdown",
   "metadata": {},
   "source": [
    "### 4. applying the model"
   ]
  },
  {
   "cell_type": "code",
   "execution_count": 15,
   "metadata": {},
   "outputs": [],
   "source": [
    "# TODO\n"
   ]
  }
 ],
 "metadata": {
  "interpreter": {
   "hash": "1123ec88e6546c59a178b8c37b077b856634b4b83572dee74e066f1859b3ead4"
  },
  "kernelspec": {
   "display_name": "Python 3.9.7 64-bit ('ml': conda)",
   "language": "python",
   "name": "python3"
  },
  "language_info": {
   "codemirror_mode": {
    "name": "ipython",
    "version": 3
   },
   "file_extension": ".py",
   "mimetype": "text/x-python",
   "name": "python",
   "nbconvert_exporter": "python",
   "pygments_lexer": "ipython3",
   "version": "3.9.7"
  },
  "orig_nbformat": 4
 },
 "nbformat": 4,
 "nbformat_minor": 2
}
