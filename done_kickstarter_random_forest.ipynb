{
 "cells": [
  {
   "cell_type": "code",
   "execution_count": 1,
   "metadata": {},
   "outputs": [],
   "source": [
    "# for autoreloading edited the modules and packages instead of restarting the kernel\n",
    "%reload_ext autoreload\n",
    "%autoreload 2\n",
    "import warnings\n",
    "warnings.filterwarnings('ignore')"
   ]
  },
  {
   "cell_type": "markdown",
   "metadata": {},
   "source": [
    "## random forest"
   ]
  },
  {
   "cell_type": "markdown",
   "metadata": {},
   "source": [
    "### 1. data preparation"
   ]
  },
  {
   "cell_type": "code",
   "execution_count": 2,
   "metadata": {},
   "outputs": [],
   "source": [
    "from pathlib import Path\n",
    "from random_forest.data_utils import get_processed_data\n"
   ]
  },
  {
   "cell_type": "code",
   "execution_count": 3,
   "metadata": {},
   "outputs": [],
   "source": [
    "data_path = Path(\"data_preprocess\") / 'raw_data\\\\kickstarter_2021\\\\kickstarter_2021.csv'\n",
    "x, y = get_processed_data(data_path,target_feature=\"usd_pledged\", normalize=True, one_hot_encoder=False)\n"
   ]
  },
  {
   "cell_type": "markdown",
   "metadata": {},
   "source": [
    "### 2. hyperparameter tuning"
   ]
  },
  {
   "cell_type": "code",
   "execution_count": 4,
   "metadata": {},
   "outputs": [],
   "source": [
    "# params = {\n",
    "#     \"bootstrap\": [True, False],\n",
    "#     \"max_depth\": [10, 100, None],\n",
    "#     \"max_features\": [\"auto\", \"sqrt\"],\n",
    "#     \"min_samples_leaf\": [1, 2],\n",
    "#     \"min_samples_split\": [1, 10],\n",
    "#     \"n_estimators\": [100, 1000],\n",
    "# }\n",
    "# regressor = RandomForestRegressor()\n",
    "# best_params = find_best_hyperparameter(\n",
    "#     data_path,\n",
    "#     regressor,\n",
    "#     params,\n",
    "#     scoring=\"neg_mean_squared_error\",\n",
    "# )\n"
   ]
  },
  {
   "cell_type": "code",
   "execution_count": 5,
   "metadata": {},
   "outputs": [],
   "source": [
    "# params = {\n",
    "#     \"bootstrap\": [True],\n",
    "#     \"max_depth\": [10],\n",
    "#     \"max_features\": [\"auto\"],\n",
    "#     \"min_samples_leaf\": [2, 5, 10],\n",
    "#     \"min_samples_split\": [10, 25, 50],\n",
    "#     \"n_estimators\": [100],\n",
    "# }\n",
    "# regressor = RandomForestRegressor()\n",
    "# best_params = find_best_hyperparameter(\n",
    "#     data_path,\n",
    "#     regressor,\n",
    "#     params,\n",
    "#     scoring=\"neg_mean_squared_error\",\n",
    "# )\n"
   ]
  },
  {
   "cell_type": "code",
   "execution_count": 6,
   "metadata": {},
   "outputs": [],
   "source": [
    "from random_forest.train_utils import find_best_hyperparameter, train_forest_with_kfold\n",
    "from sklearn.ensemble import RandomForestRegressor\n",
    "import numpy as np"
   ]
  },
  {
   "cell_type": "code",
   "execution_count": 7,
   "metadata": {},
   "outputs": [],
   "source": [
    "# params = {\n",
    "#     \"bootstrap\": [True, False],\n",
    "#     \"max_depth\": [10, 100, None],\n",
    "#     \"max_features\": [\"auto\", \"sqrt\"],\n",
    "#     \"min_samples_leaf\": [1, 2],\n",
    "#     \"min_samples_split\": [1, 10],\n",
    "#     \"n_estimators\": [100, 1000],\n",
    "#     \"bootstrap\": [True],\n",
    "#     \"max_depth\": [10],\n",
    "#     \"max_features\": [\"auto\"],\n",
    "#     \"min_samples_leaf\": [2, 5, 10],\n",
    "#     \"min_samples_split\": [10, 25, 50],\n",
    "#     \"n_estimators\": [100],\n",
    "# }\n",
    "# # y_train = np.squeeze(y)\n",
    "# regressor = RandomForestRegressor()\n",
    "# best_params = find_best_hyperparameter(\n",
    "#     data_path,\n",
    "#     regressor,\n",
    "#     params,\n",
    "#     scoring=\"neg_mean_squared_error\",\n",
    "    \n",
    "# )\n",
    "# best_params\n"
   ]
  },
  {
   "cell_type": "code",
   "execution_count": 8,
   "metadata": {},
   "outputs": [],
   "source": [
    "best_params = {\n",
    "    \"bootstrap\": True,\n",
    "    \"max_depth\": 10,\n",
    "    \"max_features\": \"auto\",\n",
    "    \"min_samples_leaf\": 5,\n",
    "    \"min_samples_split\": 10,\n",
    "    \"n_estimators\": 100,\n",
    "    \"random_state\": 42,\n",
    "}\n"
   ]
  },
  {
   "cell_type": "markdown",
   "metadata": {},
   "source": [
    "### 3. training and validating the model"
   ]
  },
  {
   "cell_type": "code",
   "execution_count": 11,
   "metadata": {},
   "outputs": [
    {
     "name": "stdout",
     "output_type": "stream",
     "text": [
      "mean_error = 69256.04657261813 $\n"
     ]
    },
    {
     "data": {
      "text/plain": [
       "[79805.10904413293,\n",
       " 59090.46125085433,\n",
       " 76151.25320183876,\n",
       " 60949.96954061702,\n",
       " 70283.43982564757]"
      ]
     },
     "execution_count": 11,
     "metadata": {},
     "output_type": "execute_result"
    }
   ],
   "source": [
    "mean_error, kfold_errors = train_forest_with_kfold(\n",
    "    data_path,\n",
    "    target_feature=\"usd_pledged\",\n",
    "    kflod_n_splits=5,\n",
    "    kfold_shuffle=True,\n",
    "    **best_params,\n",
    ")\n",
    "print(f\"mean_error = {mean_error} $\")\n",
    "kfold_errors\n"
   ]
  },
  {
   "cell_type": "code",
   "execution_count": null,
   "metadata": {},
   "outputs": [],
   "source": []
  }
 ],
 "metadata": {
  "interpreter": {
   "hash": "80087e092bc02f3d06e6e9041e469d3ac4c6d42735329ec50604bff3be951e3e"
  },
  "kernelspec": {
   "display_name": "Python 3.9.7 64-bit ('myenv': conda)",
   "language": "python",
   "name": "python3"
  },
  "language_info": {
   "codemirror_mode": {
    "name": "ipython",
    "version": 3
   },
   "file_extension": ".py",
   "mimetype": "text/x-python",
   "name": "python",
   "nbconvert_exporter": "python",
   "pygments_lexer": "ipython3",
   "version": "3.9.7"
  },
  "orig_nbformat": 4
 },
 "nbformat": 4,
 "nbformat_minor": 2
}
