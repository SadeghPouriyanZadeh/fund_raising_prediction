{
 "cells": [
  {
   "cell_type": "code",
   "execution_count": 1,
   "metadata": {},
   "outputs": [],
   "source": [
    "# for autoreloading edited the modules and packages instead of restarting the kernel\n",
    "%reload_ext autoreload\n",
    "%autoreload 2\n",
    "import warnings\n",
    "warnings.filterwarnings('ignore')"
   ]
  },
  {
   "cell_type": "markdown",
   "metadata": {},
   "source": [
    "## random forest"
   ]
  },
  {
   "cell_type": "markdown",
   "metadata": {},
   "source": [
    "### 1. data preparation"
   ]
  },
  {
   "cell_type": "code",
   "execution_count": 2,
   "metadata": {},
   "outputs": [],
   "source": [
    "from pathlib import Path\n",
    "from data_preprocess.data_utils import get_processed_data\n",
    "import pandas as pd\n"
   ]
  },
  {
   "cell_type": "code",
   "execution_count": 3,
   "metadata": {},
   "outputs": [],
   "source": [
    "data_dir = Path(\"data_preprocess\")\n",
    "data_path = data_dir / \"kickstarter_2021.csv\"\n",
    "x, y = get_processed_data(data_path, \"usd_pledged\")"
   ]
  },
  {
   "cell_type": "markdown",
   "metadata": {},
   "source": [
    "### 2. hyperparameter tuning"
   ]
  },
  {
   "cell_type": "code",
   "execution_count": 4,
   "metadata": {},
   "outputs": [],
   "source": [
    "# params = {\n",
    "#     \"bootstrap\": [True, False],\n",
    "#     \"max_depth\": [10, 100, None],\n",
    "#     \"max_features\": [\"auto\", \"sqrt\"],\n",
    "#     \"min_samples_leaf\": [1, 2],\n",
    "#     \"min_samples_split\": [1, 10],\n",
    "#     \"n_estimators\": [100, 1000],\n",
    "# }\n",
    "# regressor = RandomForestRegressor()\n",
    "# best_params = find_best_hyperparameter(\n",
    "#     data_path,\n",
    "#     regressor,\n",
    "#     params,\n",
    "#     scoring=\"neg_mean_squared_error\",\n",
    "# )\n"
   ]
  },
  {
   "cell_type": "code",
   "execution_count": 5,
   "metadata": {},
   "outputs": [],
   "source": [
    "# params = {\n",
    "#     \"bootstrap\": [True],\n",
    "#     \"max_depth\": [10],\n",
    "#     \"max_features\": [\"auto\"],\n",
    "#     \"min_samples_leaf\": [2, 5, 10],\n",
    "#     \"min_samples_split\": [10, 25, 50],\n",
    "#     \"n_estimators\": [100],\n",
    "# }\n",
    "# regressor = RandomForestRegressor()\n",
    "# best_params = find_best_hyperparameter(\n",
    "#     data_path,\n",
    "#     regressor,\n",
    "#     params,\n",
    "#     scoring=\"neg_mean_squared_error\",\n",
    "# )\n"
   ]
  },
  {
   "cell_type": "code",
   "execution_count": 6,
   "metadata": {},
   "outputs": [],
   "source": [
    "from random_forest.train_utils import (\n",
    "    find_best_hyperparameter,\n",
    "    train_forest_with_kfold,\n",
    "    train_forest,\n",
    ")\n",
    "from sklearn.ensemble import RandomForestRegressor\n",
    "import numpy as np\n"
   ]
  },
  {
   "cell_type": "code",
   "execution_count": 7,
   "metadata": {},
   "outputs": [],
   "source": [
    "# params = {\n",
    "#     \"bootstrap\": [True, False],\n",
    "#     \"max_depth\": [10, 100, None],\n",
    "#     \"max_features\": [\"auto\", \"sqrt\"],\n",
    "#     \"min_samples_leaf\": [1, 2],\n",
    "#     \"min_samples_split\": [1, 10],\n",
    "#     \"n_estimators\": [100, 1000],\n",
    "#     \"bootstrap\": [True],\n",
    "#     \"max_depth\": [10],\n",
    "#     \"max_features\": [\"auto\"],\n",
    "#     \"min_samples_leaf\": [2, 5, 10],\n",
    "#     \"min_samples_split\": [10, 25, 50],\n",
    "#     \"n_estimators\": [100],\n",
    "# }\n",
    "# # y_train = np.squeeze(y)\n",
    "# regressor = RandomForestRegressor()\n",
    "# best_params = find_best_hyperparameter(\n",
    "#     data_path,\n",
    "#     regressor,\n",
    "#     params,\n",
    "#     scoring=\"neg_mean_squared_error\",\n",
    "    \n",
    "# )\n",
    "# best_params\n"
   ]
  },
  {
   "cell_type": "code",
   "execution_count": 8,
   "metadata": {},
   "outputs": [],
   "source": [
    "best_params = {\n",
    "    \"bootstrap\": True,\n",
    "    \"max_depth\": 10,\n",
    "    \"max_features\": \"auto\",\n",
    "    \"min_samples_leaf\": 5,\n",
    "    \"min_samples_split\": 10,\n",
    "    \"n_estimators\": 100,\n",
    "    \"random_state\": 42,\n",
    "}\n"
   ]
  },
  {
   "cell_type": "markdown",
   "metadata": {},
   "source": [
    "### 3. training and validating the model"
   ]
  },
  {
   "cell_type": "code",
   "execution_count": 9,
   "metadata": {},
   "outputs": [
    {
     "name": "stdout",
     "output_type": "stream",
     "text": [
      "error = 51722.379355596284 $\n"
     ]
    }
   ],
   "source": [
    "error, y_pred = train_forest(x, y, ** best_params)\n",
    "print(f\"error = {error} $\")\n"
   ]
  },
  {
   "cell_type": "code",
   "execution_count": 10,
   "metadata": {},
   "outputs": [],
   "source": [
    "pd.DataFrame({\"y_true\": y.squeeze(), \"y_pred\": y_pred}).to_csv(\"results_random_forest.csv\", index=False)"
   ]
  }
 ],
 "metadata": {
  "interpreter": {
   "hash": "80087e092bc02f3d06e6e9041e469d3ac4c6d42735329ec50604bff3be951e3e"
  },
  "kernelspec": {
   "display_name": "Python 3.9.7 64-bit ('myenv': conda)",
   "language": "python",
   "name": "python3"
  },
  "language_info": {
   "codemirror_mode": {
    "name": "ipython",
    "version": 3
   },
   "file_extension": ".py",
   "mimetype": "text/x-python",
   "name": "python",
   "nbconvert_exporter": "python",
   "pygments_lexer": "ipython3",
   "version": "3.9.7"
  },
  "orig_nbformat": 4
 },
 "nbformat": 4,
 "nbformat_minor": 2
}
