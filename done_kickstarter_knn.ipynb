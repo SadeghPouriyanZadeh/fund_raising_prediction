{
 "cells": [
  {
   "cell_type": "code",
   "execution_count": 1,
   "metadata": {},
   "outputs": [],
   "source": [
    "# for autoreloading edited the modules and packages instead of restarting the kernel\n",
    "%reload_ext autoreload\n",
    "%autoreload 2"
   ]
  },
  {
   "cell_type": "markdown",
   "metadata": {},
   "source": [
    "## K-Nearest Neighbors (KNN) model"
   ]
  },
  {
   "cell_type": "markdown",
   "metadata": {},
   "source": [
    "### 1. data preparation"
   ]
  },
  {
   "cell_type": "markdown",
   "metadata": {},
   "source": [
    "#### 1.1. prepare dataset"
   ]
  },
  {
   "cell_type": "code",
   "execution_count": 4,
   "metadata": {},
   "outputs": [],
   "source": [
    "from pathlib import Path\n",
    "import pandas as pd\n"
   ]
  },
  {
   "cell_type": "code",
   "execution_count": 5,
   "metadata": {},
   "outputs": [
    {
     "data": {
      "text/html": [
       "<div>\n",
       "<style scoped>\n",
       "    .dataframe tbody tr th:only-of-type {\n",
       "        vertical-align: middle;\n",
       "    }\n",
       "\n",
       "    .dataframe tbody tr th {\n",
       "        vertical-align: top;\n",
       "    }\n",
       "\n",
       "    .dataframe thead th {\n",
       "        text-align: right;\n",
       "    }\n",
       "</style>\n",
       "<table border=\"1\" class=\"dataframe\">\n",
       "  <thead>\n",
       "    <tr style=\"text-align: right;\">\n",
       "      <th></th>\n",
       "      <th>id</th>\n",
       "      <th>goal</th>\n",
       "      <th>deadline</th>\n",
       "      <th>state_changed_at</th>\n",
       "      <th>created_at</th>\n",
       "      <th>launched_at</th>\n",
       "      <th>backers_count</th>\n",
       "      <th>usd_pledged</th>\n",
       "    </tr>\n",
       "  </thead>\n",
       "  <tbody>\n",
       "    <tr>\n",
       "      <th>count</th>\n",
       "      <td>2.014300e+05</td>\n",
       "      <td>2.014300e+05</td>\n",
       "      <td>2.014300e+05</td>\n",
       "      <td>2.014300e+05</td>\n",
       "      <td>2.014300e+05</td>\n",
       "      <td>2.014300e+05</td>\n",
       "      <td>201430.000000</td>\n",
       "      <td>2.014300e+05</td>\n",
       "    </tr>\n",
       "    <tr>\n",
       "      <th>mean</th>\n",
       "      <td>1.073322e+09</td>\n",
       "      <td>5.782680e+04</td>\n",
       "      <td>1.491501e+09</td>\n",
       "      <td>1.491183e+09</td>\n",
       "      <td>1.484291e+09</td>\n",
       "      <td>1.488622e+09</td>\n",
       "      <td>147.280857</td>\n",
       "      <td>1.346047e+04</td>\n",
       "    </tr>\n",
       "    <tr>\n",
       "      <th>std</th>\n",
       "      <td>6.192613e+08</td>\n",
       "      <td>1.321779e+06</td>\n",
       "      <td>8.252764e+07</td>\n",
       "      <td>8.217482e+07</td>\n",
       "      <td>8.255653e+07</td>\n",
       "      <td>8.251254e+07</td>\n",
       "      <td>934.928257</td>\n",
       "      <td>1.049981e+05</td>\n",
       "    </tr>\n",
       "    <tr>\n",
       "      <th>min</th>\n",
       "      <td>1.852000e+04</td>\n",
       "      <td>1.000000e-02</td>\n",
       "      <td>1.243770e+09</td>\n",
       "      <td>1.243770e+09</td>\n",
       "      <td>1.240366e+09</td>\n",
       "      <td>1.240674e+09</td>\n",
       "      <td>0.000000</td>\n",
       "      <td>0.000000e+00</td>\n",
       "    </tr>\n",
       "    <tr>\n",
       "      <th>25%</th>\n",
       "      <td>5.368643e+08</td>\n",
       "      <td>1.500000e+03</td>\n",
       "      <td>1.429502e+09</td>\n",
       "      <td>1.429386e+09</td>\n",
       "      <td>1.423229e+09</td>\n",
       "      <td>1.426637e+09</td>\n",
       "      <td>3.000000</td>\n",
       "      <td>8.613875e+01</td>\n",
       "    </tr>\n",
       "    <tr>\n",
       "      <th>50%</th>\n",
       "      <td>1.072915e+09</td>\n",
       "      <td>5.000000e+03</td>\n",
       "      <td>1.487859e+09</td>\n",
       "      <td>1.487777e+09</td>\n",
       "      <td>1.480254e+09</td>\n",
       "      <td>1.484942e+09</td>\n",
       "      <td>24.000000</td>\n",
       "      <td>1.350705e+03</td>\n",
       "    </tr>\n",
       "    <tr>\n",
       "      <th>75%</th>\n",
       "      <td>1.609493e+09</td>\n",
       "      <td>1.500000e+04</td>\n",
       "      <td>1.562090e+09</td>\n",
       "      <td>1.561998e+09</td>\n",
       "      <td>1.554744e+09</td>\n",
       "      <td>1.559145e+09</td>\n",
       "      <td>87.000000</td>\n",
       "      <td>6.293718e+03</td>\n",
       "    </tr>\n",
       "    <tr>\n",
       "      <th>max</th>\n",
       "      <td>2.147476e+09</td>\n",
       "      <td>1.000000e+08</td>\n",
       "      <td>1.644199e+09</td>\n",
       "      <td>1.639015e+09</td>\n",
       "      <td>1.638994e+09</td>\n",
       "      <td>1.639015e+09</td>\n",
       "      <td>105857.000000</td>\n",
       "      <td>1.138545e+07</td>\n",
       "    </tr>\n",
       "  </tbody>\n",
       "</table>\n",
       "</div>"
      ],
      "text/plain": [
       "                 id          goal      deadline  state_changed_at  \\\n",
       "count  2.014300e+05  2.014300e+05  2.014300e+05      2.014300e+05   \n",
       "mean   1.073322e+09  5.782680e+04  1.491501e+09      1.491183e+09   \n",
       "std    6.192613e+08  1.321779e+06  8.252764e+07      8.217482e+07   \n",
       "min    1.852000e+04  1.000000e-02  1.243770e+09      1.243770e+09   \n",
       "25%    5.368643e+08  1.500000e+03  1.429502e+09      1.429386e+09   \n",
       "50%    1.072915e+09  5.000000e+03  1.487859e+09      1.487777e+09   \n",
       "75%    1.609493e+09  1.500000e+04  1.562090e+09      1.561998e+09   \n",
       "max    2.147476e+09  1.000000e+08  1.644199e+09      1.639015e+09   \n",
       "\n",
       "         created_at   launched_at  backers_count   usd_pledged  \n",
       "count  2.014300e+05  2.014300e+05  201430.000000  2.014300e+05  \n",
       "mean   1.484291e+09  1.488622e+09     147.280857  1.346047e+04  \n",
       "std    8.255653e+07  8.251254e+07     934.928257  1.049981e+05  \n",
       "min    1.240366e+09  1.240674e+09       0.000000  0.000000e+00  \n",
       "25%    1.423229e+09  1.426637e+09       3.000000  8.613875e+01  \n",
       "50%    1.480254e+09  1.484942e+09      24.000000  1.350705e+03  \n",
       "75%    1.554744e+09  1.559145e+09      87.000000  6.293718e+03  \n",
       "max    1.638994e+09  1.639015e+09  105857.000000  1.138545e+07  "
      ]
     },
     "execution_count": 5,
     "metadata": {},
     "output_type": "execute_result"
    }
   ],
   "source": [
    "data_dir = Path(\"data_preprocess\")\n",
    "data_path = data_dir / \"raw_data\\\\kickstarter_2021\\\\kickstarter_2021.csv\"\n",
    "\n",
    "df = pd.read_csv(data_path)\n",
    "df.describe()\n"
   ]
  },
  {
   "cell_type": "markdown",
   "metadata": {},
   "source": [
    "***"
   ]
  },
  {
   "cell_type": "markdown",
   "metadata": {},
   "source": [
    "#### step 2. handle missing values"
   ]
  },
  {
   "cell_type": "code",
   "execution_count": 6,
   "metadata": {},
   "outputs": [
    {
     "data": {
      "text/plain": [
       "0"
      ]
     },
     "execution_count": 6,
     "metadata": {},
     "output_type": "execute_result"
    }
   ],
   "source": [
    "nan_values = sum(df.isna().sum())\n",
    "nan_values\n"
   ]
  },
  {
   "cell_type": "markdown",
   "metadata": {},
   "source": [
    "There are no missing data.  \n",
    "It was handled before; So there is no need to handle missing data."
   ]
  },
  {
   "cell_type": "markdown",
   "metadata": {},
   "source": [
    "***"
   ]
  },
  {
   "cell_type": "markdown",
   "metadata": {},
   "source": [
    "### Part 2. Feature Selection"
   ]
  },
  {
   "cell_type": "markdown",
   "metadata": {},
   "source": [
    "#### step 3. select features"
   ]
  },
  {
   "cell_type": "code",
   "execution_count": 7,
   "metadata": {},
   "outputs": [],
   "source": [
    "from data_preprocess.data_utils import get_processed_data\n"
   ]
  },
  {
   "cell_type": "code",
   "execution_count": 9,
   "metadata": {},
   "outputs": [
    {
     "data": {
      "text/plain": [
       "((201430, 13), (201430, 1))"
      ]
     },
     "execution_count": 9,
     "metadata": {},
     "output_type": "execute_result"
    }
   ],
   "source": [
    "x, y = get_processed_data(\n",
    "    data_path, one_hot_encode=False, target_feature=\"usd_pledged\"\n",
    ")\n",
    "x.shape, y.shape\n"
   ]
  },
  {
   "cell_type": "markdown",
   "metadata": {},
   "source": [
    "---"
   ]
  },
  {
   "cell_type": "markdown",
   "metadata": {},
   "source": [
    "#### step 4. visualize heatmap"
   ]
  },
  {
   "cell_type": "code",
   "execution_count": 10,
   "metadata": {},
   "outputs": [],
   "source": [
    "import seaborn as sns\n"
   ]
  },
  {
   "cell_type": "code",
   "execution_count": 11,
   "metadata": {},
   "outputs": [
    {
     "data": {
      "image/png": "[encoded data removed]",
      "text/plain": [
       "<Figure size 432x288 with 2 Axes>"
      ]
     },
     "metadata": {},
     "output_type": "display_data"
    }
   ],
   "source": [
    "sns.set_theme()\n",
    "ax = sns.heatmap(x)\n"
   ]
  },
  {
   "cell_type": "markdown",
   "metadata": {},
   "source": [
    "comparing values in the above figure is hard because of large differences between feature values.  \n",
    "the solution is to normalize feature values."
   ]
  },
  {
   "cell_type": "markdown",
   "metadata": {},
   "source": [
    "---"
   ]
  },
  {
   "cell_type": "markdown",
   "metadata": {},
   "source": [
    "#### step 5. standardize input features"
   ]
  },
  {
   "cell_type": "code",
   "execution_count": 12,
   "metadata": {},
   "outputs": [],
   "source": [
    "from sklearn.preprocessing import StandardScaler\n"
   ]
  },
  {
   "cell_type": "code",
   "execution_count": 13,
   "metadata": {},
   "outputs": [
    {
     "data": {
      "text/plain": [
       "Text(30.5, 0.5, 'examples')"
      ]
     },
     "execution_count": 13,
     "metadata": {},
     "output_type": "execute_result"
    },
    {
     "data": {
      "image/png": "[encoded data removed]",
      "text/plain": [
       "<Figure size 432x288 with 2 Axes>"
      ]
     },
     "metadata": {},
     "output_type": "display_data"
    }
   ],
   "source": [
    "# using z-score method\n",
    "scaler = StandardScaler()\n",
    "scaler.fit(x)\n",
    "x_standard = scaler.transform(x)\n",
    "sns.set_theme()\n",
    "ax = sns.heatmap(x_standard)\n",
    "ax.set_title(\"normalized input features\")\n",
    "ax.set_xlabel(\"features\")\n",
    "ax.set_ylabel(\"examples\")\n"
   ]
  },
  {
   "cell_type": "markdown",
   "metadata": {},
   "source": [
    "---"
   ]
  },
  {
   "cell_type": "markdown",
   "metadata": {},
   "source": [
    "#### step 6. split dataset into train and test datasets\n"
   ]
  },
  {
   "cell_type": "code",
   "execution_count": 14,
   "metadata": {},
   "outputs": [],
   "source": [
    "from sklearn.model_selection import train_test_split\n"
   ]
  },
  {
   "cell_type": "code",
   "execution_count": 15,
   "metadata": {},
   "outputs": [
    {
     "data": {
      "text/plain": [
       "((161144, 13), (40286, 13), (161144, 1), (40286, 1))"
      ]
     },
     "execution_count": 15,
     "metadata": {},
     "output_type": "execute_result"
    }
   ],
   "source": [
    "test_size = 0.2\n",
    "x_train, x_test, y_train, y_test = train_test_split(\n",
    "    x,\n",
    "    y,\n",
    "    test_size=test_size,\n",
    "    random_state=28,\n",
    ")\n",
    "x_train.shape, x_test.shape, y_train.shape, y_test.shape\n"
   ]
  },
  {
   "cell_type": "markdown",
   "metadata": {},
   "source": [
    "***"
   ]
  },
  {
   "cell_type": "markdown",
   "metadata": {},
   "source": [
    "### Part 3. Model Implementation"
   ]
  },
  {
   "cell_type": "markdown",
   "metadata": {},
   "source": [
    "TODO\n",
    "tune hyperparameters"
   ]
  },
  {
   "cell_type": "markdown",
   "metadata": {},
   "source": [
    "#### step 7. implement KNN with sklearn"
   ]
  },
  {
   "cell_type": "code",
   "execution_count": 16,
   "metadata": {},
   "outputs": [],
   "source": [
    "from sklearn.neighbors import KNeighborsRegressor\n",
    "from knn.train_utils import find_best_hyperparameter, train_knn_with_kfold\n"
   ]
  },
  {
   "cell_type": "code",
   "execution_count": 17,
   "metadata": {},
   "outputs": [],
   "source": [
    "# parameters = {\n",
    "#     \"algorithm\": [\"auto\", \"ball_tree\", \"kd_tree\", \"brute\"],\n",
    "#     \"leaf_size\": [20, 30, 40],\n",
    "#     \"metric\": [\"minkowski\"],\n",
    "#     \"n_jobs\": [-1],\n",
    "#     \"n_neighbors\": [1, 3, 5, 7, 9, 15, 30, 45, 60, 75, 90, 120, 150, 170],\n",
    "#     \"p\": [1, 2, 3],\n",
    "#     \"weights\": [\"uniform\", \"distance\"],\n",
    "# }\n",
    "\n"
   ]
  },
  {
   "cell_type": "code",
   "execution_count": 18,
   "metadata": {},
   "outputs": [],
   "source": [
    "# regressor = KNeighborsRegressor()\n",
    "# \n",
    "# best_hyperparameter = find_best_hyperparameter(\n",
    "#     data_path,\n",
    "#     regressor,\n",
    "#     parameters=parameters,\n",
    "#     target_feature='usd_pledged'\n",
    "# )\n",
    "# best_hyperparameter\n"
   ]
  },
  {
   "cell_type": "code",
   "execution_count": 19,
   "metadata": {},
   "outputs": [],
   "source": [
    "# to set hyperparameters manually\n",
    "best_hyperparameter = {\n",
    "    \"algorithm\": \"auto\",\n",
    "    \"leaf_size\": 30,\n",
    "    \"metric\": \"minkowski\",\n",
    "    \"n_jobs\": -1,\n",
    "    \"n_neighbors\": 15,\n",
    "    \"p\": 2,\n",
    "    \"weights\": 'uniform',\n",
    "}"
   ]
  },
  {
   "cell_type": "code",
   "execution_count": 20,
   "metadata": {},
   "outputs": [
    {
     "data": {
      "text/plain": [
       "[0.08894293250457119, -0.06801793609216888]"
      ]
     },
     "execution_count": 20,
     "metadata": {},
     "output_type": "execute_result"
    }
   ],
   "source": [
    "regressor = KNeighborsRegressor(**best_hyperparameter)\n",
    "regressor.fit(x_train, y_train)\n",
    "y_pred = regressor.predict(x_test)\n",
    "\n",
    "training_score = regressor.score(x_train, y_train)\n",
    "test_score = regressor.score(x_test, y_test)\n",
    "\n",
    "scores = [training_score, test_score]\n",
    "scores\n"
   ]
  },
  {
   "cell_type": "markdown",
   "metadata": {},
   "source": [
    "#### step 8. fine-tune k"
   ]
  },
  {
   "cell_type": "code",
   "execution_count": 21,
   "metadata": {},
   "outputs": [],
   "source": [
    "from sklearn.metrics import mean_squared_error\n",
    "import matplotlib.pyplot as plt\n"
   ]
  },
  {
   "cell_type": "code",
   "execution_count": 22,
   "metadata": {},
   "outputs": [
    {
     "name": "stdout",
     "output_type": "stream",
     "text": [
      "Minimum error:  8197563889.298082 at k = 166\n"
     ]
    },
    {
     "data": {
      "image/png": "[encoded data removed]",
      "text/plain": [
       "<Figure size 432x288 with 1 Axes>"
      ]
     },
     "metadata": {},
     "output_type": "display_data"
    }
   ],
   "source": [
    "error_rate = []\n",
    "k_range = 175\n",
    "range_start = 5\n",
    "for i in range(range_start, k_range):\n",
    "    regressor = KNeighborsRegressor(n_neighbors=i)\n",
    "    regressor.fit(x_train, y_train)\n",
    "    y_pred = regressor.predict(x_test)\n",
    "    error_rate.append(mean_squared_error(y_test, y_pred))\n",
    "\n",
    "plt.figure()\n",
    "plt.plot(range(range_start, k_range), error_rate, color=\"red\")\n",
    "plt.title(\"Error Rate vs. K Value\")\n",
    "plt.xlabel(\"K\")\n",
    "plt.ylabel(\"Error Rate\")\n",
    "print(\"Minimum error: \", min(error_rate), \"at k =\", error_rate.index(min(error_rate)))\n"
   ]
  },
  {
   "cell_type": "markdown",
   "metadata": {},
   "source": [
    "***"
   ]
  },
  {
   "cell_type": "markdown",
   "metadata": {},
   "source": [
    "### Part 4. Validation"
   ]
  },
  {
   "cell_type": "markdown",
   "metadata": {},
   "source": [
    "#### step 9. prediction error\n"
   ]
  },
  {
   "cell_type": "code",
   "execution_count": 23,
   "metadata": {},
   "outputs": [],
   "source": [
    "from knn.train_utils import train_knn_with_kfold\n",
    "from data_preprocess.data_utils import get_processed_data\n"
   ]
  },
  {
   "cell_type": "code",
   "execution_count": 26,
   "metadata": {},
   "outputs": [
    {
     "name": "stdout",
     "output_type": "stream",
     "text": [
      "mean_error = 107398.60122478417 M$\n"
     ]
    },
    {
     "data": {
      "text/plain": [
       "[108599.74525098791, 106197.45719858044]"
      ]
     },
     "execution_count": 26,
     "metadata": {},
     "output_type": "execute_result"
    }
   ],
   "source": [
    "mean_error, kfold_errors = train_knn_with_kfold(\n",
    "    data_path=data_path,\n",
    "    target_feature=\"usd_pledged\",\n",
    "    kflod_n_splits=2,\n",
    "    **best_hyperparameter,\n",
    ")\n",
    "print(f\"mean_error = {mean_error} M$\")\n",
    "kfold_errors\n"
   ]
  },
  {
   "cell_type": "code",
   "execution_count": null,
   "metadata": {},
   "outputs": [],
   "source": []
  }
 ],
 "metadata": {
  "interpreter": {
   "hash": "1123ec88e6546c59a178b8c37b077b856634b4b83572dee74e066f1859b3ead4"
  },
  "kernelspec": {
   "display_name": "Python 3.9.7 64-bit ('ml': conda)",
   "language": "python",
   "name": "python3"
  },
  "language_info": {
   "codemirror_mode": {
    "name": "ipython",
    "version": 3
   },
   "file_extension": ".py",
   "mimetype": "text/x-python",
   "name": "python",
   "nbconvert_exporter": "python",
   "pygments_lexer": "ipython3",
   "version": "3.9.7"
  },
  "orig_nbformat": 4
 },
 "nbformat": 4,
 "nbformat_minor": 2
}
