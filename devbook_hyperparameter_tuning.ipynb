{
 "cells": [
  {
   "cell_type": "code",
   "execution_count": 1,
   "metadata": {},
   "outputs": [],
   "source": [
    "%reload_ext autoreload\n",
    "%autoreload 2"
   ]
  },
  {
   "cell_type": "code",
   "execution_count": 50,
   "metadata": {},
   "outputs": [],
   "source": [
    "from pathlib import Path\n",
    "\n",
    "import numpy as np\n",
    "import pandas as pd\n",
    "from pandas import DataFrame\n",
    "import torch\n",
    "from matplotlib import pyplot as plt\n",
    "from sklearn.model_selection import train_test_split, KFold\n",
    "from torch import nn, optim\n",
    "from torch.utils.data import DataLoader, Dataset\n",
    "\n",
    "from data import IcoDataset, get_processed_data\n",
    "from model import IcoPredictor\n",
    "from train_utils import (\n",
    "    train,\n",
    "    run_with_kfold,\n",
    "    param_generator,\n",
    "    HyperParameterLogger,\n",
    "    find_best_hyperparameter,\n",
    ")\n",
    "import random\n",
    "import csv\n",
    "import time\n"
   ]
  },
  {
   "cell_type": "code",
   "execution_count": 4,
   "metadata": {},
   "outputs": [
    {
     "data": {
      "text/plain": [
       "'cuda'"
      ]
     },
     "execution_count": 4,
     "metadata": {},
     "output_type": "execute_result"
    }
   ],
   "source": [
    "data_dir = Path(\"dataset\")\n",
    "data_path = data_dir / \"ico_dataset_cleaned_v2.csv\"\n",
    "log_file_path = Path(\"log_cuda.csv\")\n",
    "logger = HyperParameterLogger(log_file_path)\n",
    "params = param_generator()\n",
    "epochs = 1000\n",
    "device = \"cuda\" if torch.cuda.is_available() else \"cpu\"\n",
    "device\n"
   ]
  },
  {
   "cell_type": "code",
   "execution_count": null,
   "metadata": {},
   "outputs": [],
   "source": [
    "for param_dict in params:\n",
    "    param_dict[\"epochs\"] = epochs\n",
    "    param_dict[\"data_path\"] = data_path\n",
    "    param_dict[\"device\"] = device\n",
    "    print(param_dict)\n",
    "    tic = time.time()\n",
    "    val_loss = run_with_kfold(**param_dict)\n",
    "    toc = time.time()\n",
    "    print('validation loss :', val_loss)\n",
    "    print('time length for one fold :', toc-tic)\n",
    "    logger.log(param_dict, val_loss, toc-tic)\n",
    "    print(\"=\"*80)"
   ]
  },
  {
   "cell_type": "code",
   "execution_count": null,
   "metadata": {},
   "outputs": [],
   "source": [
    "# TODO dict to csv from csv standard library (geeksforgeeks)\n",
    "# params_list=['batch_size', 'hidden_layers', 'layer_units', 'learning_rate', 'normalize', 'one_hot_encode', 'epochs', 'data_path', 'device']\n",
    "# with open('records.csv', 'a+') as csvfile:\n",
    "#     # creating a csv dict writer object\n",
    "#     writer = csv.DictWriter(csvfile, fieldnames=params_list)\n",
    "#     writer.writeheader()\n",
    "#     writer.writerows(param_dict)"
   ]
  },
  {
   "cell_type": "code",
   "execution_count": 49,
   "metadata": {},
   "outputs": [
    {
     "data": {
      "text/plain": [
       "array([[32, 4, 64, 0.0025484383117563, True, False, 1000,\n",
       "        '/content/gdrive/MyDrive/python/ml/ico_prediction/dataset/ico_dataset_cleaned_v2.csv',\n",
       "        'cpu', 21.021139494900424, 72.37192630767822]], dtype=object)"
      ]
     },
     "execution_count": 49,
     "metadata": {},
     "output_type": "execute_result"
    }
   ],
   "source": [
    "find_best_hyperparameter(df, 'val_loss')"
   ]
  }
 ],
 "metadata": {
  "interpreter": {
   "hash": "bfc614eaf004b96023ad33f8670ef0653b63aa7b2ec3e67983ab3e5ca4797f64"
  },
  "kernelspec": {
   "display_name": "Python 3.9.7 64-bit ('dl': conda)",
   "language": "python",
   "name": "python3"
  },
  "language_info": {
   "codemirror_mode": {
    "name": "ipython",
    "version": 3
   },
   "file_extension": ".py",
   "mimetype": "text/x-python",
   "name": "python",
   "nbconvert_exporter": "python",
   "pygments_lexer": "ipython3",
   "version": "3.9.7"
  },
  "orig_nbformat": 4
 },
 "nbformat": 4,
 "nbformat_minor": 2
}
